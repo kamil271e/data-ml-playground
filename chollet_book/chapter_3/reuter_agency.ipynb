{
 "cells": [
  {
   "cell_type": "markdown",
   "id": "2277b3b1-d03d-4dab-8693-e74d0d25f7ed",
   "metadata": {},
   "source": [
    "Short press info - 46 categories"
   ]
  },
  {
   "cell_type": "code",
   "execution_count": 1,
   "id": "20678277-5c0c-4c6b-8969-aacb0a7f6d5b",
   "metadata": {},
   "outputs": [
    {
     "name": "stderr",
     "output_type": "stream",
     "text": [
      "2023-03-02 19:40:33.646589: I tensorflow/core/platform/cpu_feature_guard.cc:193] This TensorFlow binary is optimized with oneAPI Deep Neural Network Library (oneDNN) to use the following CPU instructions in performance-critical operations:  SSE4.1 SSE4.2 AVX AVX2 AVX512F AVX512_VNNI FMA\n",
      "To enable them in other operations, rebuild TensorFlow with the appropriate compiler flags.\n",
      "2023-03-02 19:40:33.695514: I tensorflow/core/util/port.cc:104] oneDNN custom operations are on. You may see slightly different numerical results due to floating-point round-off errors from different computation orders. To turn them off, set the environment variable `TF_ENABLE_ONEDNN_OPTS=0`.\n"
     ]
    }
   ],
   "source": [
    "from keras.layers import Dense\n",
    "from keras.models import Sequential\n",
    "from keras.datasets import reuters\n",
    "from keras.utils import to_categorical\n",
    "import numpy as np"
   ]
  },
  {
   "cell_type": "code",
   "execution_count": 27,
   "id": "f3e1000d-f54e-4cee-8f2c-23b2724821f3",
   "metadata": {},
   "outputs": [],
   "source": [
    "(X_train, y_train), (X_test, y_test) = reuters.load_data(num_words=10000) "
   ]
  },
  {
   "cell_type": "code",
   "execution_count": 3,
   "id": "45122e9a-0ad6-426d-b9ff-86ae40fbd8fc",
   "metadata": {},
   "outputs": [
    {
     "data": {
      "text/plain": [
       "46"
      ]
     },
     "execution_count": 3,
     "metadata": {},
     "output_type": "execute_result"
    }
   ],
   "source": [
    "len(set(y_train))"
   ]
  },
  {
   "cell_type": "code",
   "execution_count": 4,
   "id": "9bcf4833-82ab-48d6-ba50-da4cf82e7b09",
   "metadata": {},
   "outputs": [
    {
     "data": {
      "text/plain": [
       "[1, 2, 2, 8, 43, 10, 447, 5, 25, 207]"
      ]
     },
     "execution_count": 4,
     "metadata": {},
     "output_type": "execute_result"
    }
   ],
   "source": [
    "X_train[0][:10] # word indexes again - transformation needed e.g. one-hot encoding (to_categorical)"
   ]
  },
  {
   "cell_type": "code",
   "execution_count": 28,
   "id": "9e1b1a69-c486-4092-9d9b-768b464323f5",
   "metadata": {},
   "outputs": [],
   "source": [
    "y_train = to_categorical(y_train)\n",
    "y_test = to_categorical(y_test)"
   ]
  },
  {
   "cell_type": "code",
   "execution_count": 29,
   "id": "b497c84b-2984-4957-9531-d7b5f92ea85f",
   "metadata": {},
   "outputs": [],
   "source": [
    "def vectorize_sequences(sequences, dimensions=10000):\n",
    "    results = np.zeros((len(sequences), dimensions))\n",
    "    for i, sequence in enumerate(sequences):\n",
    "        results[i, sequence] = 1\n",
    "    return results"
   ]
  },
  {
   "cell_type": "code",
   "execution_count": 30,
   "id": "d499ff18-444b-4990-a800-29d46a2e2246",
   "metadata": {},
   "outputs": [],
   "source": [
    "X_test = vectorize_sequences(X_test)\n",
    "X_train = vectorize_sequences(X_train)"
   ]
  },
  {
   "cell_type": "code",
   "execution_count": 53,
   "id": "72462fd2-83ce-490b-9698-0e4bc0d68b32",
   "metadata": {},
   "outputs": [],
   "source": [
    "model = Sequential([\n",
    "    Dense(64, activation='relu', input_shape=(10000,)),\n",
    "    Dense(64, activation='relu'),\n",
    "    Dense(46, activation='softmax')\n",
    "])"
   ]
  },
  {
   "cell_type": "code",
   "execution_count": 54,
   "id": "64d7c78f-9c2b-48ab-81dd-a931e4e19db7",
   "metadata": {},
   "outputs": [],
   "source": [
    "model.compile(optimizer='adam', loss='categorical_crossentropy', metrics=['accuracy'])"
   ]
  },
  {
   "cell_type": "code",
   "execution_count": 33,
   "id": "8b91223d-e1e7-4faa-aba6-8545a42e730d",
   "metadata": {},
   "outputs": [],
   "source": [
    "X_val = X_train[:1000]\n",
    "X_train = X_train[1000:]\n",
    "\n",
    "y_val = y_train[:1000]\n",
    "y_train = y_train[1000:]"
   ]
  },
  {
   "cell_type": "code",
   "execution_count": 55,
   "id": "8b6831ba-79c2-469a-82d8-1550804520b2",
   "metadata": {},
   "outputs": [
    {
     "name": "stdout",
     "output_type": "stream",
     "text": [
      "Epoch 1/20\n",
      "16/16 [==============================] - 1s 12ms/step - loss: 3.3424 - accuracy: 0.3341 - val_loss: 2.6173 - val_accuracy: 0.4640\n",
      "Epoch 2/20\n",
      "16/16 [==============================] - 0s 8ms/step - loss: 2.0571 - accuracy: 0.5937 - val_loss: 1.6508 - val_accuracy: 0.6410\n",
      "Epoch 3/20\n",
      "16/16 [==============================] - 0s 7ms/step - loss: 1.3749 - accuracy: 0.7106 - val_loss: 1.3131 - val_accuracy: 0.7070\n",
      "Epoch 4/20\n",
      "16/16 [==============================] - 0s 7ms/step - loss: 1.0504 - accuracy: 0.7770 - val_loss: 1.1522 - val_accuracy: 0.7490\n",
      "Epoch 5/20\n",
      "16/16 [==============================] - 0s 8ms/step - loss: 0.8285 - accuracy: 0.8216 - val_loss: 1.0498 - val_accuracy: 0.7720\n",
      "Epoch 6/20\n",
      "16/16 [==============================] - 0s 7ms/step - loss: 0.6506 - accuracy: 0.8623 - val_loss: 0.9785 - val_accuracy: 0.7920\n",
      "Epoch 7/20\n",
      "16/16 [==============================] - 0s 7ms/step - loss: 0.5110 - accuracy: 0.8939 - val_loss: 0.9291 - val_accuracy: 0.8120\n",
      "Epoch 8/20\n",
      "16/16 [==============================] - 0s 7ms/step - loss: 0.4004 - accuracy: 0.9191 - val_loss: 0.8936 - val_accuracy: 0.8140\n",
      "Epoch 9/20\n",
      "16/16 [==============================] - 0s 7ms/step - loss: 0.3165 - accuracy: 0.9341 - val_loss: 0.8819 - val_accuracy: 0.8200\n",
      "Epoch 10/20\n",
      "16/16 [==============================] - 0s 7ms/step - loss: 0.2562 - accuracy: 0.9436 - val_loss: 0.8806 - val_accuracy: 0.8200\n",
      "Epoch 11/20\n",
      "16/16 [==============================] - 0s 7ms/step - loss: 0.2116 - accuracy: 0.9508 - val_loss: 0.8734 - val_accuracy: 0.8210\n",
      "Epoch 12/20\n",
      "16/16 [==============================] - 0s 7ms/step - loss: 0.1809 - accuracy: 0.9520 - val_loss: 0.9020 - val_accuracy: 0.8160\n",
      "Epoch 13/20\n",
      "16/16 [==============================] - 0s 7ms/step - loss: 0.1593 - accuracy: 0.9551 - val_loss: 0.9057 - val_accuracy: 0.8190\n",
      "Epoch 14/20\n",
      "16/16 [==============================] - 0s 7ms/step - loss: 0.1427 - accuracy: 0.9582 - val_loss: 0.9293 - val_accuracy: 0.8100\n",
      "Epoch 15/20\n",
      "16/16 [==============================] - 0s 7ms/step - loss: 0.1363 - accuracy: 0.9588 - val_loss: 0.9363 - val_accuracy: 0.8080\n",
      "Epoch 16/20\n",
      "16/16 [==============================] - 0s 7ms/step - loss: 0.1245 - accuracy: 0.9599 - val_loss: 0.9372 - val_accuracy: 0.8110\n",
      "Epoch 17/20\n",
      "16/16 [==============================] - 0s 7ms/step - loss: 0.1129 - accuracy: 0.9594 - val_loss: 0.9711 - val_accuracy: 0.8180\n",
      "Epoch 18/20\n",
      "16/16 [==============================] - 0s 7ms/step - loss: 0.1104 - accuracy: 0.9603 - val_loss: 0.9730 - val_accuracy: 0.8140\n",
      "Epoch 19/20\n",
      "16/16 [==============================] - 0s 8ms/step - loss: 0.1046 - accuracy: 0.9614 - val_loss: 0.9932 - val_accuracy: 0.8170\n",
      "Epoch 20/20\n",
      "16/16 [==============================] - 0s 6ms/step - loss: 0.1002 - accuracy: 0.9617 - val_loss: 0.9912 - val_accuracy: 0.8140\n"
     ]
    }
   ],
   "source": [
    "history = model.fit(X_train, y_train, epochs=20, batch_size=512, validation_data=(X_val, y_val))"
   ]
  },
  {
   "cell_type": "code",
   "execution_count": 56,
   "id": "da542a6d-6ccd-46d5-b4d5-7902d3a42518",
   "metadata": {},
   "outputs": [
    {
     "data": {
      "image/png": "[encoded data removed]",
      "text/plain": [
       "<Figure size 640x480 with 1 Axes>"
      ]
     },
     "metadata": {},
     "output_type": "display_data"
    }
   ],
   "source": [
    "import matplotlib.pyplot as plt\n",
    "history_dict = history.history\n",
    "\n",
    "epochs = np.arange(1,21)\n",
    "train_loss = history_dict['loss']\n",
    "val_loss = history_dict['val_loss']\n",
    "\n",
    "plt.xlabel('Epochs')\n",
    "plt.ylabel('Loss')\n",
    "plt.title('Train loss & validation loss')\n",
    "plt.plot(epochs, train_loss, 'o', label='Train loss')\n",
    "plt.plot(epochs, val_loss, label='Validation loss')\n",
    "plt.legend()\n",
    "plt.show()"
   ]
  },
  {
   "cell_type": "markdown",
   "id": "da8afad6-4ef3-4ad8-9f78-068f26aa77e3",
   "metadata": {},
   "source": [
    "Loss stops decreasing somewhere around 9 epochs."
   ]
  },
  {
   "cell_type": "code",
   "execution_count": 57,
   "id": "7ec9a23f-8868-4207-a547-3f4c1ba5dd89",
   "metadata": {},
   "outputs": [
    {
     "data": {
      "image/png": "[encoded data removed]",
      "text/plain": [
       "<Figure size 640x480 with 1 Axes>"
      ]
     },
     "metadata": {},
     "output_type": "display_data"
    }
   ],
   "source": [
    "train_acc = history_dict['accuracy']\n",
    "val_acc = history_dict['val_accuracy']\n",
    "plt.xlabel('Epochs')\n",
    "plt.ylabel('Accuracy')\n",
    "plt.title('Train accuarcy & validation accuracy')\n",
    "plt.plot(epochs, train_acc, 'o', label='Train accuracy')\n",
    "plt.plot(epochs, val_acc, label='Validation accuracy')\n",
    "plt.legend()\n",
    "plt.show()"
   ]
  },
  {
   "cell_type": "code",
   "execution_count": 58,
   "id": "bea10483-a926-43a9-a9de-245cdaeb9e7c",
   "metadata": {},
   "outputs": [
    {
     "name": "stdout",
     "output_type": "stream",
     "text": [
      "Epoch 1/9\n",
      "16/16 [==============================] - 0s 10ms/step - loss: 0.0989 - accuracy: 0.9599 - val_loss: 1.0009 - val_accuracy: 0.8130\n",
      "Epoch 2/9\n",
      "16/16 [==============================] - 0s 7ms/step - loss: 0.1017 - accuracy: 0.9602 - val_loss: 1.0215 - val_accuracy: 0.8090\n",
      "Epoch 3/9\n",
      "16/16 [==============================] - 0s 7ms/step - loss: 0.0914 - accuracy: 0.9605 - val_loss: 1.0205 - val_accuracy: 0.8170\n",
      "Epoch 4/9\n",
      "16/16 [==============================] - 0s 7ms/step - loss: 0.0888 - accuracy: 0.9629 - val_loss: 1.0179 - val_accuracy: 0.8110\n",
      "Epoch 5/9\n",
      "16/16 [==============================] - 0s 7ms/step - loss: 0.0900 - accuracy: 0.9620 - val_loss: 1.0376 - val_accuracy: 0.8120\n",
      "Epoch 6/9\n",
      "16/16 [==============================] - 0s 7ms/step - loss: 0.0960 - accuracy: 0.9603 - val_loss: 1.0348 - val_accuracy: 0.8140\n",
      "Epoch 7/9\n",
      "16/16 [==============================] - 0s 7ms/step - loss: 0.0907 - accuracy: 0.9603 - val_loss: 1.0538 - val_accuracy: 0.8100\n",
      "Epoch 8/9\n",
      "16/16 [==============================] - 0s 7ms/step - loss: 0.0921 - accuracy: 0.9613 - val_loss: 1.0639 - val_accuracy: 0.8080\n",
      "Epoch 9/9\n",
      "16/16 [==============================] - 0s 6ms/step - loss: 0.0848 - accuracy: 0.9613 - val_loss: 1.0650 - val_accuracy: 0.8120\n"
     ]
    },
    {
     "data": {
      "text/plain": [
       "<keras.callbacks.History at 0x7f5a6cd73f40>"
      ]
     },
     "execution_count": 58,
     "metadata": {},
     "output_type": "execute_result"
    }
   ],
   "source": [
    "model.fit(X_train, y_train, epochs=9, batch_size=512, validation_data=(X_val, y_val))"
   ]
  },
  {
   "cell_type": "code",
   "execution_count": 59,
   "id": "99c08ddf-7af6-4d2a-b3e4-464d29bfafd8",
   "metadata": {},
   "outputs": [
    {
     "name": "stdout",
     "output_type": "stream",
     "text": [
      "71/71 [==============================] - 0s 1ms/step - loss: 1.1908 - accuracy: 0.7916\n"
     ]
    }
   ],
   "source": [
    "res = model.evaluate(X_test, y_test)"
   ]
  },
  {
   "cell_type": "code",
   "execution_count": 17,
   "id": "06d33720-ff83-4cf4-aa4c-dc802d272352",
   "metadata": {},
   "outputs": [
    {
     "name": "stdout",
     "output_type": "stream",
     "text": [
      "71/71 [==============================] - 0s 880us/step\n"
     ]
    }
   ],
   "source": [
    "pred = model.predict(X_test)"
   ]
  },
  {
   "cell_type": "code",
   "execution_count": 24,
   "id": "7f83d769-e23a-46fd-af7b-fa457c3c42ba",
   "metadata": {},
   "outputs": [
    {
     "data": {
      "text/plain": [
       "(46, 3, 0.99999994)"
      ]
     },
     "execution_count": 24,
     "metadata": {},
     "output_type": "execute_result"
    }
   ],
   "source": [
    "len(pred[0]), np.argmax(pred[0]), np.sum(pred[0]) # hmm it should sum up to 1"
   ]
  },
  {
   "cell_type": "markdown",
   "id": "96d6a5b0-d4da-4ea2-b7fb-1158a77933f2",
   "metadata": {},
   "source": [
    "Different options for labels:"
   ]
  },
  {
   "cell_type": "code",
   "execution_count": 26,
   "id": "cc1ff019-d0f2-4320-8cf8-f842e759f66b",
   "metadata": {},
   "outputs": [],
   "source": [
    "y_train = np.array(y_train)\n",
    "y_test = np.array(y_test)\n",
    "# however, it is necessary to change the function of the loss\n",
    "model.compile(optimizer='rmsprop',loss='sparse_categorical_crossentropy', metrics=['accuracy'])"
   ]
  }
 ],
 "metadata": {
  "kernelspec": {
   "display_name": "Python 3 (ipykernel)",
   "language": "python",
   "name": "python3"
  },
  "language_info": {
   "codemirror_mode": {
    "name": "ipython",
    "version": 3
   },
   "file_extension": ".py",
   "mimetype": "text/x-python",
   "name": "python",
   "nbconvert_exporter": "python",
   "pygments_lexer": "ipython3",
   "version": "3.10.9"
  }
 },
 "nbformat": 4,
 "nbformat_minor": 5
}
