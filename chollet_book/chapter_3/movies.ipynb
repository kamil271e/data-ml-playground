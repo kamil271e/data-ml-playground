{
 "cells": [
  {
   "cell_type": "code",
   "execution_count": 3,
   "id": "8ff7a435-26a9-4830-b582-cd58a1ca7455",
   "metadata": {},
   "outputs": [],
   "source": [
    "from keras.datasets import imdb\n",
    "(X_train, y_train), (X_test, y_test) = imdb.load_data(num_words=10000)"
   ]
  },
  {
   "cell_type": "code",
   "execution_count": 4,
   "id": "67ffff9e-b00a-4ca7-aafb-ba418ce60024",
   "metadata": {},
   "outputs": [],
   "source": [
    "word_index = imdb.get_word_index()\n",
    "reverse_word_index = dict([(value, key) for (key, value) in word_index.items()])\n",
    "decoded_review = ' '.join([reverse_word_index.get(i-3, '?') for i in X_train[0]]) # 0, 1, 2 - symbolizes sth"
   ]
  },
  {
   "cell_type": "code",
   "execution_count": 5,
   "id": "fe8494fa-3187-4235-aa20-9ec11ac4e893",
   "metadata": {},
   "outputs": [
    {
     "data": {
      "text/plain": [
       "'? this film was just brilliant'"
      ]
     },
     "execution_count": 5,
     "metadata": {},
     "output_type": "execute_result"
    }
   ],
   "source": [
    "decoded_review[:30]"
   ]
  },
  {
   "cell_type": "code",
   "execution_count": 6,
   "id": "00e81a78-9849-4427-a3b6-316d26458e81",
   "metadata": {},
   "outputs": [
    {
     "data": {
      "text/plain": [
       "(189, 218)"
      ]
     },
     "execution_count": 6,
     "metadata": {},
     "output_type": "execute_result"
    }
   ],
   "source": [
    "len(X_train[1]), len(X_train[0]) # rozne dlugosci!"
   ]
  },
  {
   "cell_type": "code",
   "execution_count": 7,
   "id": "73abcb47-cdd4-46f4-8115-c74d8cff807e",
   "metadata": {},
   "outputs": [],
   "source": [
    "import numpy as np\n",
    "\n",
    "def vectorize_sequences(sequences, dimensions=10000):\n",
    "    results = np.zeros((len(sequences), dimensions))\n",
    "    for i, sequence in enumerate(sequences):\n",
    "        results[i, sequence] = 1\n",
    "    return results"
   ]
  },
  {
   "cell_type": "code",
   "execution_count": 8,
   "id": "671346d3-45e5-4cc8-bd30-20df465257a3",
   "metadata": {},
   "outputs": [],
   "source": [
    "X_train = vectorize_sequences(X_train)\n",
    "X_test = vectorize_sequences(X_test)"
   ]
  },
  {
   "cell_type": "code",
   "execution_count": 9,
   "id": "395c37ff-30a7-4fd6-a31f-0740f188cae4",
   "metadata": {},
   "outputs": [
    {
     "data": {
      "text/plain": [
       "(25000, 10000)"
      ]
     },
     "execution_count": 9,
     "metadata": {},
     "output_type": "execute_result"
    }
   ],
   "source": [
    "X_train.shape"
   ]
  },
  {
   "cell_type": "code",
   "execution_count": 10,
   "id": "a0555381-3c08-43a2-8b80-f63b4762d584",
   "metadata": {},
   "outputs": [],
   "source": [
    "y_test = np.float32(y_test)\n",
    "y_train = y_train.astype('float32')"
   ]
  },
  {
   "cell_type": "code",
   "execution_count": 11,
   "id": "2cd7e3ff-cb35-4de2-8676-2f83ef735daa",
   "metadata": {},
   "outputs": [],
   "source": [
    "from keras.models import Sequential\n",
    "from keras.layers import Dense"
   ]
  },
  {
   "cell_type": "code",
   "execution_count": 13,
   "id": "d92b5b0d-8423-46f2-aea3-72cc4ba70373",
   "metadata": {},
   "outputs": [],
   "source": [
    "model = Sequential([\n",
    "    Dense(16, activation='relu', input_shape=(10000,)), # (10000,) because it is (10000, any batch_size)\n",
    "    Dense(16, activation='relu'),\n",
    "    Dense(1, activation='sigmoid')\n",
    "])"
   ]
  },
  {
   "cell_type": "code",
   "execution_count": 14,
   "id": "dc86fc34-5d33-4c21-ba5e-e36722b0d4d8",
   "metadata": {},
   "outputs": [
    {
     "name": "stdout",
     "output_type": "stream",
     "text": [
      "Model: \"sequential_1\"\n",
      "_________________________________________________________________\n",
      " Layer (type)                Output Shape              Param #   \n",
      "=================================================================\n",
      " dense_3 (Dense)             (None, 16)                160016    \n",
      "                                                                 \n",
      " dense_4 (Dense)             (None, 16)                272       \n",
      "                                                                 \n",
      " dense_5 (Dense)             (None, 1)                 17        \n",
      "                                                                 \n",
      "=================================================================\n",
      "Total params: 160,305\n",
      "Trainable params: 160,305\n",
      "Non-trainable params: 0\n",
      "_________________________________________________________________\n"
     ]
    }
   ],
   "source": [
    "model.summary()"
   ]
  },
  {
   "cell_type": "code",
   "execution_count": 15,
   "id": "e3837ba4-4d7f-473e-8cc1-03b01f1336b8",
   "metadata": {},
   "outputs": [],
   "source": [
    "model.compile(optimizer='rmsprop', loss='binary_crossentropy', metrics=['accuracy'])"
   ]
  },
  {
   "cell_type": "code",
   "execution_count": 16,
   "id": "ec1b4544-039f-486b-a6f1-7dcfc3a2523d",
   "metadata": {
    "tags": []
   },
   "outputs": [],
   "source": [
    "from keras import losses, metrics, optimizers\n",
    "model.compile(optimizer=optimizers.RMSprop(learning_rate=0.001),\n",
    "              loss=losses.binary_crossentropy,\n",
    "              metrics=[metrics.binary_accuracy])"
   ]
  },
  {
   "cell_type": "code",
   "execution_count": 17,
   "id": "0c01ecc0-9427-401a-8fe7-8d8fc60a20fb",
   "metadata": {},
   "outputs": [],
   "source": [
    "X_val = X_train[:10000]\n",
    "X_train = X_train[10000:]\n",
    "\n",
    "y_val = y_train[:10000]\n",
    "y_train = y_train[10000:]"
   ]
  },
  {
   "cell_type": "code",
   "execution_count": 18,
   "id": "385de7b6-5cad-4a18-b0ea-e53aed4116ce",
   "metadata": {},
   "outputs": [
    {
     "name": "stdout",
     "output_type": "stream",
     "text": [
      "Epoch 1/20\n",
      "21/30 [====================>.........] - ETA: 0s - loss: 0.5593 - binary_accuracy: 0.7456"
     ]
    },
    {
     "name": "stderr",
     "output_type": "stream",
     "text": [
      "2023-03-02 21:48:33.207138: I tensorflow/compiler/xla/stream_executor/cuda/cuda_blas.cc:630] TensorFloat-32 will be used for the matrix multiplication. This will only be logged once.\n"
     ]
    },
    {
     "name": "stdout",
     "output_type": "stream",
     "text": [
      "30/30 [==============================] - 1s 22ms/step - loss: 0.5141 - binary_accuracy: 0.7827 - val_loss: 0.3945 - val_binary_accuracy: 0.8562\n",
      "Epoch 2/20\n",
      "30/30 [==============================] - 0s 9ms/step - loss: 0.3027 - binary_accuracy: 0.9025 - val_loss: 0.3247 - val_binary_accuracy: 0.8696\n",
      "Epoch 3/20\n",
      "30/30 [==============================] - 0s 9ms/step - loss: 0.2220 - binary_accuracy: 0.9266 - val_loss: 0.2902 - val_binary_accuracy: 0.8836\n",
      "Epoch 4/20\n",
      "30/30 [==============================] - 0s 8ms/step - loss: 0.1720 - binary_accuracy: 0.9428 - val_loss: 0.2750 - val_binary_accuracy: 0.8906\n",
      "Epoch 5/20\n",
      "30/30 [==============================] - 0s 9ms/step - loss: 0.1415 - binary_accuracy: 0.9554 - val_loss: 0.2843 - val_binary_accuracy: 0.8868\n",
      "Epoch 6/20\n",
      "30/30 [==============================] - 0s 9ms/step - loss: 0.1151 - binary_accuracy: 0.9653 - val_loss: 0.2972 - val_binary_accuracy: 0.8839\n",
      "Epoch 7/20\n",
      "30/30 [==============================] - 0s 9ms/step - loss: 0.0990 - binary_accuracy: 0.9689 - val_loss: 0.3433 - val_binary_accuracy: 0.8743\n",
      "Epoch 8/20\n",
      "30/30 [==============================] - 0s 9ms/step - loss: 0.0805 - binary_accuracy: 0.9774 - val_loss: 0.3476 - val_binary_accuracy: 0.8756\n",
      "Epoch 9/20\n",
      "30/30 [==============================] - 0s 9ms/step - loss: 0.0676 - binary_accuracy: 0.9829 - val_loss: 0.3547 - val_binary_accuracy: 0.8769\n",
      "Epoch 10/20\n",
      "30/30 [==============================] - 0s 9ms/step - loss: 0.0578 - binary_accuracy: 0.9849 - val_loss: 0.3811 - val_binary_accuracy: 0.8793\n",
      "Epoch 11/20\n",
      "30/30 [==============================] - 0s 9ms/step - loss: 0.0480 - binary_accuracy: 0.9885 - val_loss: 0.4298 - val_binary_accuracy: 0.8660\n",
      "Epoch 12/20\n",
      "30/30 [==============================] - 0s 9ms/step - loss: 0.0412 - binary_accuracy: 0.9905 - val_loss: 0.4272 - val_binary_accuracy: 0.8751\n",
      "Epoch 13/20\n",
      "30/30 [==============================] - 0s 9ms/step - loss: 0.0325 - binary_accuracy: 0.9929 - val_loss: 0.4575 - val_binary_accuracy: 0.8736\n",
      "Epoch 14/20\n",
      "30/30 [==============================] - 0s 9ms/step - loss: 0.0295 - binary_accuracy: 0.9937 - val_loss: 0.4813 - val_binary_accuracy: 0.8702\n",
      "Epoch 15/20\n",
      "30/30 [==============================] - 0s 9ms/step - loss: 0.0202 - binary_accuracy: 0.9974 - val_loss: 0.5110 - val_binary_accuracy: 0.8708\n",
      "Epoch 16/20\n",
      "30/30 [==============================] - 0s 9ms/step - loss: 0.0193 - binary_accuracy: 0.9963 - val_loss: 0.5422 - val_binary_accuracy: 0.8697\n",
      "Epoch 17/20\n",
      "30/30 [==============================] - 0s 9ms/step - loss: 0.0174 - binary_accuracy: 0.9965 - val_loss: 0.5688 - val_binary_accuracy: 0.8682\n",
      "Epoch 18/20\n",
      "30/30 [==============================] - 0s 9ms/step - loss: 0.0097 - binary_accuracy: 0.9995 - val_loss: 0.6888 - val_binary_accuracy: 0.8610\n",
      "Epoch 19/20\n",
      "30/30 [==============================] - 0s 8ms/step - loss: 0.0117 - binary_accuracy: 0.9984 - val_loss: 0.6382 - val_binary_accuracy: 0.8629\n",
      "Epoch 20/20\n",
      "30/30 [==============================] - 0s 8ms/step - loss: 0.0081 - binary_accuracy: 0.9993 - val_loss: 0.6730 - val_binary_accuracy: 0.8660\n"
     ]
    }
   ],
   "source": [
    "history = model.fit(X_train, y_train, epochs=20, batch_size=512, validation_data=(X_val, y_val))"
   ]
  },
  {
   "cell_type": "code",
   "execution_count": 19,
   "id": "23bc16b1-905f-45b8-8920-fff43a8caee8",
   "metadata": {},
   "outputs": [],
   "source": [
    "import tensorflow as tf\n",
    "tf.keras.backend.clear_session()"
   ]
  },
  {
   "cell_type": "code",
   "execution_count": 20,
   "id": "94148e67-da50-4980-a924-1482d4808863",
   "metadata": {},
   "outputs": [
    {
     "data": {
      "text/plain": [
       "dict_keys(['loss', 'binary_accuracy', 'val_loss', 'val_binary_accuracy'])"
      ]
     },
     "execution_count": 20,
     "metadata": {},
     "output_type": "execute_result"
    }
   ],
   "source": [
    "history_dict = history.history\n",
    "history_dict.keys()"
   ]
  },
  {
   "cell_type": "code",
   "execution_count": 21,
   "id": "e1f38c51-3184-46c1-a926-5911d15ab15f",
   "metadata": {},
   "outputs": [
    {
     "data": {
      "image/png": "[encoded data removed]",
      "text/plain": [
       "<Figure size 640x480 with 1 Axes>"
      ]
     },
     "metadata": {},
     "output_type": "display_data"
    }
   ],
   "source": [
    "import matplotlib.pyplot as plt\n",
    "x = np.arange(1,21)\n",
    "train_loss = history_dict['loss']\n",
    "val_loss = history_dict['val_loss']\n",
    "plt.title('Train loss & validation loss')\n",
    "plt.xlabel('Epochs')\n",
    "plt.ylabel('Loss')\n",
    "plt.plot(x, train_loss, 'o', label='Train loss')\n",
    "plt.plot(x, val_loss, label='Validation loss')\n",
    "plt.legend()\n",
    "plt.show()"
   ]
  },
  {
   "cell_type": "code",
   "execution_count": 22,
   "id": "2124b7e2-193a-421b-9a8f-4882aeb9c331",
   "metadata": {},
   "outputs": [
    {
     "data": {
      "image/png": "[encoded data removed]",
      "text/plain": [
       "<Figure size 640x480 with 1 Axes>"
      ]
     },
     "metadata": {},
     "output_type": "display_data"
    }
   ],
   "source": [
    "train_acc = history_dict['binary_accuracy']\n",
    "val_acc = history_dict['val_binary_accuracy']\n",
    "plt.title('Train accuracy & validation accuracy')\n",
    "plt.xlabel('Epochs')\n",
    "plt.ylabel('Accuarcy')\n",
    "plt.plot(x, train_acc, 'o', label=\"Train accuracy\")\n",
    "plt.plot(x, val_acc, label=\"Validation accuracy\")\n",
    "plt.legend()\n",
    "plt.show()"
   ]
  },
  {
   "cell_type": "markdown",
   "id": "296c0087-1c07-4aab-97d1-3405aab81d87",
   "metadata": {},
   "source": [
    "<b>Overfitting! It would be necessary to re-train the model on only 4 epochs.</b>"
   ]
  },
  {
   "cell_type": "code",
   "execution_count": 23,
   "id": "6f4780d4-7bee-46a6-8793-9e3a50ec9ed4",
   "metadata": {},
   "outputs": [
    {
     "name": "stdout",
     "output_type": "stream",
     "text": [
      "782/782 [==============================] - 1s 773us/step\n"
     ]
    },
    {
     "data": {
      "text/plain": [
       "array([[0.01114358],\n",
       "       [1.        ],\n",
       "       [0.763328  ],\n",
       "       ...,\n",
       "       [0.00238205],\n",
       "       [0.02469992],\n",
       "       [0.9120366 ]], dtype=float32)"
      ]
     },
     "execution_count": 23,
     "metadata": {},
     "output_type": "execute_result"
    }
   ],
   "source": [
    "model.predict(X_test)"
   ]
  }
 ],
 "metadata": {
  "kernelspec": {
   "display_name": "Python 3 (ipykernel)",
   "language": "python",
   "name": "python3"
  },
  "language_info": {
   "codemirror_mode": {
    "name": "ipython",
    "version": 3
   },
   "file_extension": ".py",
   "mimetype": "text/x-python",
   "name": "python",
   "nbconvert_exporter": "python",
   "pygments_lexer": "ipython3",
   "version": "3.10.9"
  }
 },
 "nbformat": 4,
 "nbformat_minor": 5
}
