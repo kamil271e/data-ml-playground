{
 "cells": [
  {
   "cell_type": "code",
   "execution_count": 36,
   "id": "e323a09e-876e-4532-921c-5005844e3c86",
   "metadata": {},
   "outputs": [],
   "source": [
    "import numpy as np\n",
    "import string\n",
    "import os\n",
    "import sys\n",
    "import tensorflow as tf\n",
    "from keras.preprocessing.text import Tokenizer\n",
    "from keras.datasets import imdb\n",
    "from keras.utils import pad_sequences\n",
    "from keras.models import Sequential\n",
    "from keras.layers import Dense, Flatten, Embedding\n",
    "\n",
    "sys.path.append('../')\n",
    "from utils import acc_plot, loss_plot\n",
    "tf.config.run_functions_eagerly(True)"
   ]
  },
  {
   "cell_type": "markdown",
   "id": "09d019ea-f96d-4906-b97d-8f3373b7176f",
   "metadata": {
    "tags": []
   },
   "source": [
    "## One hot encoding"
   ]
  },
  {
   "cell_type": "code",
   "execution_count": 2,
   "id": "56bb480a-3930-4853-80d2-da524ffc2c34",
   "metadata": {},
   "outputs": [
    {
     "name": "stdout",
     "output_type": "stream",
     "text": [
      "{'The': 1, 'cat': 2, 'sat': 3, 'on': 4, 'the': 5, 'mat.': 6, 'dog': 7, 'ate': 8, 'my': 9, 'homework.': 10}\n"
     ]
    },
    {
     "data": {
      "text/plain": [
       "array([[[1., 0., 0., 0., 0., 0., 0., 0., 0., 0., 0.],\n",
       "        [0., 1., 0., 0., 0., 0., 0., 0., 0., 0., 0.],\n",
       "        [0., 0., 1., 0., 0., 0., 0., 0., 0., 0., 0.],\n",
       "        [0., 0., 0., 1., 0., 0., 0., 0., 0., 0., 0.],\n",
       "        [0., 0., 0., 0., 1., 0., 0., 0., 0., 0., 0.],\n",
       "        [0., 0., 0., 0., 0., 1., 0., 0., 0., 0., 0.],\n",
       "        [0., 0., 0., 0., 0., 0., 0., 0., 0., 0., 0.],\n",
       "        [0., 0., 0., 0., 0., 0., 0., 0., 0., 0., 0.],\n",
       "        [0., 0., 0., 0., 0., 0., 0., 0., 0., 0., 0.],\n",
       "        [0., 0., 0., 0., 0., 0., 0., 0., 0., 0., 0.]],\n",
       "\n",
       "       [[1., 0., 0., 0., 0., 0., 0., 0., 0., 0., 0.],\n",
       "        [0., 0., 0., 0., 0., 0., 1., 0., 0., 0., 0.],\n",
       "        [0., 0., 0., 0., 0., 0., 0., 1., 0., 0., 0.],\n",
       "        [0., 0., 0., 0., 0., 0., 0., 0., 1., 0., 0.],\n",
       "        [0., 0., 0., 0., 0., 0., 0., 0., 0., 1., 0.],\n",
       "        [0., 0., 0., 0., 0., 0., 0., 0., 0., 0., 0.],\n",
       "        [0., 0., 0., 0., 0., 0., 0., 0., 0., 0., 0.],\n",
       "        [0., 0., 0., 0., 0., 0., 0., 0., 0., 0., 0.],\n",
       "        [0., 0., 0., 0., 0., 0., 0., 0., 0., 0., 0.],\n",
       "        [0., 0., 0., 0., 0., 0., 0., 0., 0., 0., 0.]]])"
      ]
     },
     "execution_count": 2,
     "metadata": {},
     "output_type": "execute_result"
    }
   ],
   "source": [
    "samples = [\"The cat sat on the mat.\", \"The dog ate my homework.\"]\n",
    "token_index = {}\n",
    "\n",
    "for sample in samples:\n",
    "    for word in sample.split():\n",
    "        if word not in token_index:\n",
    "            token_index[word] = len(token_index) + 1\n",
    "max_length = 10 # we take only first 10 characters of each sample\n",
    "results = np.zeros((len(samples), max_length, max(token_index.values())+1))\n",
    "\n",
    "\n",
    "for i, sample in enumerate(samples):\n",
    "    for j, word in enumerate(sample.split()):\n",
    "        index = token_index.get(word)\n",
    "        results[i, j, index-1] = 1\n",
    "\n",
    "print(token_index)\n",
    "results"
   ]
  },
  {
   "cell_type": "code",
   "execution_count": 3,
   "id": "a13fc6df-109c-425b-bff7-81576409cc39",
   "metadata": {},
   "outputs": [
    {
     "name": "stdout",
     "output_type": "stream",
     "text": [
      "[[[0. 0. 0. ... 0. 0. 0.]\n",
      "  [0. 0. 0. ... 0. 0. 0.]\n",
      "  [0. 0. 0. ... 0. 0. 0.]\n",
      "  ...\n",
      "  [0. 0. 0. ... 0. 0. 0.]\n",
      "  [0. 0. 0. ... 0. 0. 0.]\n",
      "  [0. 0. 0. ... 0. 0. 0.]]\n",
      "\n",
      " [[0. 0. 0. ... 0. 0. 0.]\n",
      "  [0. 0. 0. ... 0. 0. 0.]\n",
      "  [0. 0. 0. ... 0. 0. 0.]\n",
      "  ...\n",
      "  [0. 0. 0. ... 0. 0. 0.]\n",
      "  [0. 0. 0. ... 0. 0. 0.]\n",
      "  [0. 0. 0. ... 0. 0. 0.]]]\n"
     ]
    }
   ],
   "source": [
    "# all characters\n",
    "characters = string.printable\n",
    "token_index = dict(zip(characters, range(1, len(characters)+1)))\n",
    "max_length = 50\n",
    "results = np.zeros((len(samples), max_length, max(token_index.values())+1))\n",
    "\n",
    "for i, sample in enumerate(samples):\n",
    "    for j, char in enumerate(sample):\n",
    "        index = token_index.get(char)\n",
    "        results[i, j, index] = 1\n",
    "\n",
    "# with np.printoptions(threshold=np.inf):\n",
    "#     print(results[0])\n",
    "print(results)"
   ]
  },
  {
   "cell_type": "code",
   "execution_count": 4,
   "id": "9de18c1d-0011-45e7-9219-036293e3fc1e",
   "metadata": {},
   "outputs": [
    {
     "name": "stdout",
     "output_type": "stream",
     "text": [
      "[1, 2, 3, 4, 1, 5] [1, 6, 7, 8, 9] \n",
      "\n",
      "[0. 1. 1. 1. 1. 1. 0. 0. 0. 0.] \n",
      "\n",
      "Tokens: {'the': 1, 'cat': 2, 'sat': 3, 'on': 4, 'mat': 5, 'dog': 6, 'ate': 7, 'my': 8, 'homework': 9}\n"
     ]
    }
   ],
   "source": [
    "tokenizer = Tokenizer(num_words=100) # only 100 most common words\n",
    "\n",
    "tokenizer.fit_on_texts(samples) # word index is build\n",
    "\n",
    "sequences = tokenizer.texts_to_sequences(samples)\n",
    "\n",
    "print(*sequences, '\\n')\n",
    "\n",
    "one_hot_results = tokenizer.texts_to_matrix(samples, mode='binary')\n",
    "\n",
    "word_index = tokenizer.word_index\n",
    "\n",
    "print(one_hot_results[0, :10], \"\\n\")\n",
    "\n",
    "print(f'Tokens: {word_index}')"
   ]
  },
  {
   "cell_type": "markdown",
   "id": "e7bb49b3-6f83-4950-a0aa-e988475cadb2",
   "metadata": {
    "jp-MarkdownHeadingCollapsed": true,
    "tags": []
   },
   "source": [
    "#### One-hot hashing trick"
   ]
  },
  {
   "cell_type": "code",
   "execution_count": 5,
   "id": "38dcb581-da94-423e-9a33-23ee1209f8fc",
   "metadata": {},
   "outputs": [
    {
     "name": "stdout",
     "output_type": "stream",
     "text": [
      "133\n"
     ]
    }
   ],
   "source": [
    "dimensionality = 1000 # word represented as a vector of size 1000\n",
    "max_length = 10\n",
    "results = np.zeros((len(samples), max_length, dimensionality))\n",
    "\n",
    "for i, sample in enumerate(samples):\n",
    "    for j, word in enumerate(sample.split()):\n",
    "        index = abs(hash(word) % dimensionality) # \n",
    "        results[i, j, index] = 1\n",
    "        \n",
    "for i, el in enumerate(results[0][1]):\n",
    "    if el > 0.5:\n",
    "        print(i)"
   ]
  },
  {
   "cell_type": "markdown",
   "id": "a7081e05-5956-46c9-a8a7-e0c714264dff",
   "metadata": {
    "tags": []
   },
   "source": [
    "## Embeddings"
   ]
  },
  {
   "cell_type": "code",
   "execution_count": 6,
   "id": "a16fb782-76b3-4e45-97f7-4735f4b92cb1",
   "metadata": {},
   "outputs": [],
   "source": [
    "max_features = 10000 # load 10000 most popular words from reviews\n",
    "maxlen = 20 # cut review after 20 words\n",
    "\n",
    "(X_train, y_train), (X_test, y_test) = imdb.load_data(num_words=max_features)\n",
    "\n",
    "X_train = pad_sequences(X_train, maxlen=maxlen) # pad sequences to the same length\n",
    "X_test = pad_sequences(X_test, maxlen=maxlen)"
   ]
  },
  {
   "cell_type": "code",
   "execution_count": 7,
   "id": "0b8c3c94-4fc7-464f-89d5-a9b3fa56d600",
   "metadata": {},
   "outputs": [
    {
     "data": {
      "text/plain": [
       "((25000, 20), (25000, 20))"
      ]
     },
     "execution_count": 7,
     "metadata": {},
     "output_type": "execute_result"
    }
   ],
   "source": [
    "X_train.shape, X_test.shape"
   ]
  },
  {
   "cell_type": "code",
   "execution_count": 8,
   "id": "164401bf-0238-4db5-93c5-e84009997468",
   "metadata": {},
   "outputs": [
    {
     "data": {
      "text/plain": [
       "array([  65,   16,   38, 1334,   88,   12,   16,  283,    5,   16, 4472,\n",
       "        113,  103,   32,   15,   16, 5345,   19,  178,   32], dtype=int32)"
      ]
     },
     "execution_count": 8,
     "metadata": {},
     "output_type": "execute_result"
    }
   ],
   "source": [
    "X_train[0]"
   ]
  },
  {
   "cell_type": "code",
   "execution_count": 14,
   "id": "6c12e792-471f-4181-8451-ef6d150970db",
   "metadata": {},
   "outputs": [
    {
     "name": "stdout",
     "output_type": "stream",
     "text": [
      "Model: \"sequential_2\"\n",
      "_________________________________________________________________\n",
      " Layer (type)                Output Shape              Param #   \n",
      "=================================================================\n",
      " embedding_2 (Embedding)     (None, 20, 8)             80000     \n",
      "                                                                 \n",
      " flatten_2 (Flatten)         (None, 160)               0         \n",
      "                                                                 \n",
      " dense_2 (Dense)             (None, 1)                 161       \n",
      "                                                                 \n",
      "=================================================================\n",
      "Total params: 80,161\n",
      "Trainable params: 80,161\n",
      "Non-trainable params: 0\n",
      "_________________________________________________________________\n"
     ]
    }
   ],
   "source": [
    "model = Sequential([\n",
    "    Embedding(10000, 8, input_length=maxlen), # input_dim, output_dim (embedding vector length)\n",
    "    Flatten(),\n",
    "    Dense(1, activation='sigmoid')\n",
    "])\n",
    "\n",
    "model.compile(loss='binary_crossentropy', optimizer='adam', metrics=['accuracy'])\n",
    "model.summary()"
   ]
  },
  {
   "cell_type": "code",
   "execution_count": 15,
   "id": "6453dfc8-5afb-43c5-a07d-ee0d55e1627e",
   "metadata": {},
   "outputs": [
    {
     "name": "stdout",
     "output_type": "stream",
     "text": [
      "Epoch 1/10\n",
      "625/625 [==============================] - 6s 9ms/step - loss: 0.6573 - accuracy: 0.6353 - val_loss: 0.5766 - val_accuracy: 0.7148\n",
      "Epoch 2/10\n",
      "625/625 [==============================] - 2s 2ms/step - loss: 0.4834 - accuracy: 0.7856 - val_loss: 0.4969 - val_accuracy: 0.7506\n",
      "Epoch 3/10\n",
      "625/625 [==============================] - 2s 3ms/step - loss: 0.3850 - accuracy: 0.8385 - val_loss: 0.4880 - val_accuracy: 0.7600\n",
      "Epoch 4/10\n",
      "625/625 [==============================] - 1s 2ms/step - loss: 0.3196 - accuracy: 0.8746 - val_loss: 0.4964 - val_accuracy: 0.7582\n",
      "Epoch 5/10\n",
      "625/625 [==============================] - 1s 2ms/step - loss: 0.2653 - accuracy: 0.9031 - val_loss: 0.5184 - val_accuracy: 0.7506\n",
      "Epoch 6/10\n",
      "625/625 [==============================] - 1s 2ms/step - loss: 0.2189 - accuracy: 0.9271 - val_loss: 0.5429 - val_accuracy: 0.7434\n",
      "Epoch 7/10\n",
      "625/625 [==============================] - 1s 2ms/step - loss: 0.1792 - accuracy: 0.9461 - val_loss: 0.5756 - val_accuracy: 0.7398\n",
      "Epoch 8/10\n",
      "625/625 [==============================] - 1s 2ms/step - loss: 0.1455 - accuracy: 0.9609 - val_loss: 0.6062 - val_accuracy: 0.7344\n",
      "Epoch 9/10\n",
      "625/625 [==============================] - 1s 2ms/step - loss: 0.1170 - accuracy: 0.9728 - val_loss: 0.6416 - val_accuracy: 0.7330\n",
      "Epoch 10/10\n",
      "625/625 [==============================] - 1s 2ms/step - loss: 0.0934 - accuracy: 0.9815 - val_loss: 0.6824 - val_accuracy: 0.7250\n"
     ]
    }
   ],
   "source": [
    "history = model.fit(\n",
    "    X_train,\n",
    "    y_train,\n",
    "    epochs=10,\n",
    "    batch_size=32,\n",
    "    validation_split=0.2\n",
    ")"
   ]
  },
  {
   "cell_type": "code",
   "execution_count": 17,
   "id": "a67d0290-eca2-40ae-b198-1c6920e3cad8",
   "metadata": {},
   "outputs": [
    {
     "data": {
      "image/png": "[encoded data removed]",
      "text/plain": [
       "<Figure size 640x480 with 1 Axes>"
      ]
     },
     "metadata": {},
     "output_type": "display_data"
    },
    {
     "data": {
      "image/png": "[encoded data removed]",
      "text/plain": [
       "<Figure size 640x480 with 1 Axes>"
      ]
     },
     "metadata": {},
     "output_type": "display_data"
    }
   ],
   "source": [
    "history_dict = history.history\n",
    "loss_plot(history_dict, epochs=10)\n",
    "acc_plot(history_dict, epochs=10)"
   ]
  },
  {
   "cell_type": "markdown",
   "id": "eef4471f-a27d-42b2-914e-a5f464391e7d",
   "metadata": {
    "tags": []
   },
   "source": [
    "## GloVe"
   ]
  },
  {
   "cell_type": "code",
   "execution_count": 2,
   "id": "f42da712-3bb5-4086-b447-787357c2a536",
   "metadata": {},
   "outputs": [],
   "source": [
    "# download raw data from: https://mng.bz/0tIo\n",
    "imdb_dir = 'aclImdb'\n",
    "train_dir = os.path.join(imdb_dir, 'train')\n",
    "\n",
    "labels = []\n",
    "texts = []\n",
    "\n",
    "for label_type in ['pos', 'neg']:\n",
    "    dir_name = os.path.join(train_dir, label_type)\n",
    "    for fname in os.listdir(dir_name):\n",
    "        if fname[-4:] == '.txt':\n",
    "            with open(os.path.join(dir_name, fname)) as f:\n",
    "                texts.append(f.read())\n",
    "            if label_type == 'neg':\n",
    "                labels.append(0)\n",
    "            else:\n",
    "                labels.append(1)    "
   ]
  },
  {
   "cell_type": "code",
   "execution_count": 3,
   "id": "0a7e2ac6-a644-4ba8-9a62-9bd2a9dbb491",
   "metadata": {},
   "outputs": [
    {
     "data": {
      "text/plain": [
       "25000"
      ]
     },
     "execution_count": 3,
     "metadata": {},
     "output_type": "execute_result"
    }
   ],
   "source": [
    "len(texts)"
   ]
  },
  {
   "cell_type": "markdown",
   "id": "d17a77e5-cbd0-4f65-866c-35d6c08f5a64",
   "metadata": {
    "tags": []
   },
   "source": [
    "#### Tokenization"
   ]
  },
  {
   "cell_type": "code",
   "execution_count": 4,
   "id": "6cf734f8-3479-4e63-a4ce-0d984231639d",
   "metadata": {},
   "outputs": [
    {
     "data": {
      "text/plain": [
       "'Found 88582 unique tokens.'"
      ]
     },
     "execution_count": 4,
     "metadata": {},
     "output_type": "execute_result"
    }
   ],
   "source": [
    "maxlen = 100 # cut review to only 100 words\n",
    "train_samples = 200 # only 200 training samples !\n",
    "val_samples = 10000\n",
    "max_words = 10000 # 10000 most popular words from dataset\n",
    "\n",
    "tokenizer = Tokenizer(num_words=max_words)\n",
    "tokenizer.fit_on_texts(texts)\n",
    "sequences = tokenizer.texts_to_sequences(texts)\n",
    "\n",
    "word_index = tokenizer.word_index\n",
    "f'Found {len(word_index)} unique tokens.' "
   ]
  },
  {
   "cell_type": "code",
   "execution_count": 5,
   "id": "02416144-4945-4900-85d1-b0124e7cfe66",
   "metadata": {},
   "outputs": [],
   "source": [
    "data = pad_sequences(sequences, maxlen=maxlen) # shape (25k, 100)\n",
    "\n",
    "labels = np.asarray(labels) # np.asarray(x) is a more flexible function than np.array(x), as it can avoid unnecessary memory allocation and copying if x is already a numpy array.\n",
    "\n",
    "# Shuffling\n",
    "indices = np.arange(data.shape[0])\n",
    "np.random.shuffle(indices)\n",
    "data = data[indices]\n",
    "labels = labels[indices]"
   ]
  },
  {
   "cell_type": "code",
   "execution_count": 30,
   "id": "1b1ecb35-c44b-467b-abec-eb7173ac49d8",
   "metadata": {},
   "outputs": [],
   "source": [
    "X_train = data[:train_samples]\n",
    "y_train = labels[:train_samples]\n",
    "X_val = data[train_samples : train_samples + val_samples]\n",
    "y_val = labels[train_samples : train_samples + val_samples]"
   ]
  },
  {
   "cell_type": "markdown",
   "id": "0e9e73ed-3512-43f1-bcdc-c3e6fd3817ee",
   "metadata": {
    "tags": []
   },
   "source": [
    "#### Load GloVe word vectors"
   ]
  },
  {
   "cell_type": "code",
   "execution_count": 9,
   "id": "69328bd4-bc80-4b7b-a0bb-cb2548ac8dd7",
   "metadata": {},
   "outputs": [
    {
     "data": {
      "text/plain": [
       "'Found 400000 word vectors'"
      ]
     },
     "execution_count": 9,
     "metadata": {},
     "output_type": "execute_result"
    }
   ],
   "source": [
    "# Download GloVe word vectors from: http://nlp.stanford.edu/projects/glove (GloVe6B)\n",
    "glove_dir = 'glove6B'\n",
    "embeddings_index = dict()\n",
    "with open(os.path.join(glove_dir, 'glove.6B.100d.txt')) as f:\n",
    "    for line in f:\n",
    "        values = line.split()\n",
    "        word = values[0]\n",
    "        coefs = np.asarray(values[1:], dtype='float32')\n",
    "        embeddings_index[word] = coefs\n",
    "\n",
    "f'Found {len(embeddings_index)} word vectors'"
   ]
  },
  {
   "cell_type": "code",
   "execution_count": 19,
   "id": "5390ae13-497e-453b-8b6d-030dd83a13e6",
   "metadata": {},
   "outputs": [],
   "source": [
    "embedding_dim = 100\n",
    "\n",
    "embedding_matrix = np.zeros((max_words, embedding_dim))\n",
    "for word, i in word_index.items():\n",
    "    embedding_vector = embeddings_index.get(word) # returns none if word is not found\n",
    "    if i < max_words:\n",
    "        if embedding_vector is not None:\n",
    "            embedding_matrix[i] = embedding_vector"
   ]
  },
  {
   "cell_type": "code",
   "execution_count": 20,
   "id": "4f2fbff6-f5bc-4037-8048-01a97e5e9df0",
   "metadata": {},
   "outputs": [
    {
     "data": {
      "text/plain": [
       "(10000, 100)"
      ]
     },
     "execution_count": 20,
     "metadata": {},
     "output_type": "execute_result"
    }
   ],
   "source": [
    "embedding_matrix.shape"
   ]
  },
  {
   "cell_type": "markdown",
   "id": "87f06cc9-35e4-4cf7-af5d-4ce1d3c64aa3",
   "metadata": {
    "tags": []
   },
   "source": [
    "#### Defining model and training"
   ]
  },
  {
   "cell_type": "code",
   "execution_count": 22,
   "id": "7524fc58-536c-4f6c-8fbb-13be899a0219",
   "metadata": {},
   "outputs": [
    {
     "name": "stdout",
     "output_type": "stream",
     "text": [
      "Model: \"sequential_1\"\n",
      "_________________________________________________________________\n",
      " Layer (type)                Output Shape              Param #   \n",
      "=================================================================\n",
      " embedding_1 (Embedding)     (None, 100, 100)          1000000   \n",
      "                                                                 \n",
      " flatten_1 (Flatten)         (None, 10000)             0         \n",
      "                                                                 \n",
      " dense_2 (Dense)             (None, 32)                320032    \n",
      "                                                                 \n",
      " dense_3 (Dense)             (None, 1)                 33        \n",
      "                                                                 \n",
      "=================================================================\n",
      "Total params: 1,320,065\n",
      "Trainable params: 1,320,065\n",
      "Non-trainable params: 0\n",
      "_________________________________________________________________\n"
     ]
    }
   ],
   "source": [
    "model = Sequential([\n",
    "    Embedding(max_words, embedding_dim, input_length=maxlen),\n",
    "    Flatten(),\n",
    "    Dense(32, activation='relu'),\n",
    "    Dense(1, activation='sigmoid')\n",
    "])\n",
    "\n",
    "model.summary()"
   ]
  },
  {
   "cell_type": "code",
   "execution_count": 24,
   "id": "557f97f0-1df4-41dd-9e77-7a44dd76eca4",
   "metadata": {},
   "outputs": [],
   "source": [
    "model.layers[0].set_weights([embedding_matrix])\n",
    "model.layers[0].trainable = False"
   ]
  },
  {
   "cell_type": "code",
   "execution_count": 25,
   "id": "0db8688d-16b7-40c2-b404-b1aac63ee7e9",
   "metadata": {},
   "outputs": [],
   "source": [
    "model.compile(loss='binary_crossentropy', optimizer='adam', metrics=['accuracy'])"
   ]
  },
  {
   "cell_type": "code",
   "execution_count": 35,
   "id": "547d3702-2402-4bb1-b5fb-151ce39c0351",
   "metadata": {},
   "outputs": [
    {
     "name": "stdout",
     "output_type": "stream",
     "text": [
      "Epoch 1/10\n",
      "7/7 [==============================] - 1s 222ms/step - loss: 0.0113 - accuracy: 1.0000 - val_loss: 0.8327 - val_accuracy: 0.5549\n",
      "Epoch 2/10\n",
      "7/7 [==============================] - 1s 233ms/step - loss: 0.0085 - accuracy: 1.0000 - val_loss: 0.8480 - val_accuracy: 0.5597\n",
      "Epoch 3/10\n",
      "7/7 [==============================] - 1s 220ms/step - loss: 0.0062 - accuracy: 1.0000 - val_loss: 0.8583 - val_accuracy: 0.5593\n",
      "Epoch 4/10\n",
      "7/7 [==============================] - 1s 225ms/step - loss: 0.0046 - accuracy: 1.0000 - val_loss: 0.8715 - val_accuracy: 0.5594\n",
      "Epoch 5/10\n",
      "7/7 [==============================] - 1s 231ms/step - loss: 0.0035 - accuracy: 1.0000 - val_loss: 0.8847 - val_accuracy: 0.5570\n",
      "Epoch 6/10\n",
      "7/7 [==============================] - 1s 236ms/step - loss: 0.0028 - accuracy: 1.0000 - val_loss: 0.8962 - val_accuracy: 0.5585\n",
      "Epoch 7/10\n",
      "7/7 [==============================] - 2s 256ms/step - loss: 0.0023 - accuracy: 1.0000 - val_loss: 0.9060 - val_accuracy: 0.5592\n",
      "Epoch 8/10\n",
      "7/7 [==============================] - 1s 225ms/step - loss: 0.0019 - accuracy: 1.0000 - val_loss: 0.9184 - val_accuracy: 0.5592\n",
      "Epoch 9/10\n",
      "7/7 [==============================] - 1s 217ms/step - loss: 0.0016 - accuracy: 1.0000 - val_loss: 0.9238 - val_accuracy: 0.5604\n",
      "Epoch 10/10\n",
      "7/7 [==============================] - 1s 205ms/step - loss: 0.0014 - accuracy: 1.0000 - val_loss: 0.9317 - val_accuracy: 0.5603\n"
     ]
    }
   ],
   "source": [
    "history = model.fit(\n",
    "    X_train,\n",
    "    y_train, \n",
    "    epochs=10,\n",
    "    batch_size=32,\n",
    "    validation_data=(X_val, y_val)\n",
    ")"
   ]
  },
  {
   "cell_type": "code",
   "execution_count": 37,
   "id": "b161d132-259f-40c3-8492-be4f73588c8a",
   "metadata": {},
   "outputs": [],
   "source": [
    "model.save_weights('pre_trained_glove.h5')"
   ]
  },
  {
   "cell_type": "code",
   "execution_count": 39,
   "id": "03799427-cf26-4fa7-8760-f76a8f3b7096",
   "metadata": {},
   "outputs": [],
   "source": [
    "# history_dict = history.history\n",
    "# loss_plot(history_dict, epochs=10)\n",
    "# acc_plot(history_dict, epochs=10)"
   ]
  },
  {
   "cell_type": "markdown",
   "id": "e91a0d73-0343-4659-aa72-078d5e0a80c2",
   "metadata": {
    "tags": []
   },
   "source": [
    "#### Same model without prepared word embeddings\n",
    "Generally this solution should work better for big datasets - our is very small ;-("
   ]
  },
  {
   "cell_type": "code",
   "execution_count": 40,
   "id": "8bafd178-c8f4-4a0a-bede-f6d829b66232",
   "metadata": {},
   "outputs": [
    {
     "name": "stdout",
     "output_type": "stream",
     "text": [
      "Epoch 1/10\n",
      "7/7 [==============================] - 1s 230ms/step - loss: 0.6945 - accuracy: 0.4600 - val_loss: 0.6925 - val_accuracy: 0.5159\n",
      "Epoch 2/10\n",
      "7/7 [==============================] - 1s 207ms/step - loss: 0.5747 - accuracy: 0.9700 - val_loss: 0.6932 - val_accuracy: 0.5120\n",
      "Epoch 3/10\n",
      "7/7 [==============================] - 1s 210ms/step - loss: 0.4610 - accuracy: 0.9950 - val_loss: 0.6942 - val_accuracy: 0.5151\n",
      "Epoch 4/10\n",
      "7/7 [==============================] - 1s 229ms/step - loss: 0.3041 - accuracy: 0.9950 - val_loss: 0.7018 - val_accuracy: 0.5133\n",
      "Epoch 5/10\n",
      "7/7 [==============================] - 1s 209ms/step - loss: 0.1586 - accuracy: 1.0000 - val_loss: 0.7096 - val_accuracy: 0.5181\n",
      "Epoch 6/10\n",
      "7/7 [==============================] - 1s 205ms/step - loss: 0.0668 - accuracy: 1.0000 - val_loss: 0.7095 - val_accuracy: 0.5179\n",
      "Epoch 7/10\n",
      "7/7 [==============================] - 1s 213ms/step - loss: 0.0285 - accuracy: 1.0000 - val_loss: 0.7155 - val_accuracy: 0.5214\n",
      "Epoch 8/10\n",
      "7/7 [==============================] - 1s 199ms/step - loss: 0.0128 - accuracy: 1.0000 - val_loss: 0.7324 - val_accuracy: 0.5192\n",
      "Epoch 9/10\n",
      "7/7 [==============================] - 1s 208ms/step - loss: 0.0081 - accuracy: 1.0000 - val_loss: 0.7437 - val_accuracy: 0.5173\n",
      "Epoch 10/10\n",
      "7/7 [==============================] - 1s 203ms/step - loss: 0.0054 - accuracy: 1.0000 - val_loss: 0.7388 - val_accuracy: 0.5177\n"
     ]
    }
   ],
   "source": [
    "model = Sequential([\n",
    "    Embedding(max_words, embedding_dim, input_length=maxlen),\n",
    "    Flatten(),\n",
    "    Dense(32, activation='relu'),\n",
    "    Dense(1, activation='sigmoid')\n",
    "])\n",
    "model.compile(loss='binary_crossentropy', optimizer='adam', metrics=['accuracy'])\n",
    "\n",
    "history = model.fit(\n",
    "    X_train,\n",
    "    y_train, \n",
    "    epochs=10,\n",
    "    batch_size=32,\n",
    "    validation_data=(X_val, y_val)\n",
    ")"
   ]
  },
  {
   "cell_type": "markdown",
   "id": "b8315045-bec6-47fb-a879-b5e696eba1b5",
   "metadata": {
    "tags": []
   },
   "source": [
    "#### Evaluation"
   ]
  },
  {
   "cell_type": "code",
   "execution_count": 41,
   "id": "e09f9376-dbe3-4f78-81a1-892ed68721c6",
   "metadata": {},
   "outputs": [],
   "source": [
    "test_dir = os.path.join(imdb_dir, 'test')\n",
    "\n",
    "labels = []\n",
    "texts = []\n",
    "\n",
    "for label_type in ['pos', 'neg']:\n",
    "    dir_name = os.path.join(test_dir, label_type)\n",
    "    for fname in os.listdir(dir_name):\n",
    "        if fname[-4:] == '.txt':\n",
    "            with open(os.path.join(dir_name, fname)) as f:\n",
    "                texts.append(f.read())\n",
    "            if label_type == 'neg':\n",
    "                labels.append(0)\n",
    "            else:\n",
    "                labels.append(1) \n",
    "\n",
    "sequences = tokenizer.texts_to_sequences(texts)\n",
    "X_test = pad_sequences(sequences, maxlen=maxlen)\n",
    "y_test = np.asarray(labels)"
   ]
  },
  {
   "cell_type": "code",
   "execution_count": 42,
   "id": "58f26752-6dcb-4637-9673-364d988d8452",
   "metadata": {},
   "outputs": [
    {
     "name": "stdout",
     "output_type": "stream",
     "text": [
      " 38/782 [>.............................] - ETA: 3s - loss: 0.8920 - accuracy: 0.5617"
     ]
    },
    {
     "name": "stderr",
     "output_type": "stream",
     "text": [
      "/home/kamil/anaconda3/envs/tf_gpu/lib/python3.10/site-packages/tensorflow/python/data/ops/structured_function.py:256: UserWarning: Even though the `tf.config.experimental_run_functions_eagerly` option is set, this option does not apply to tf.data functions. To force eager execution of tf.data functions, please use `tf.data.experimental.enable_debug_mode()`.\n",
      "  warnings.warn(\n"
     ]
    },
    {
     "name": "stdout",
     "output_type": "stream",
     "text": [
      "782/782 [==============================] - 3s 4ms/step - loss: 0.9236 - accuracy: 0.5574\n"
     ]
    },
    {
     "data": {
      "text/plain": [
       "[0.9236359596252441, 0.5573599934577942]"
      ]
     },
     "execution_count": 42,
     "metadata": {},
     "output_type": "execute_result"
    }
   ],
   "source": [
    "model.load_weights('pre_trained_glove.h5')\n",
    "model.evaluate(X_test, y_test)"
   ]
  },
  {
   "cell_type": "markdown",
   "id": "c5b5ec6d-110a-44d9-bef9-9267307bf42c",
   "metadata": {},
   "source": [
    "Well, working with small number of samples is hard."
   ]
  }
 ],
 "metadata": {
  "kernelspec": {
   "display_name": "Python [conda env:data_science] *",
   "language": "python",
   "name": "conda-env-data_science-py"
  },
  "language_info": {
   "codemirror_mode": {
    "name": "ipython",
    "version": 3
   },
   "file_extension": ".py",
   "mimetype": "text/x-python",
   "name": "python",
   "nbconvert_exporter": "python",
   "pygments_lexer": "ipython3",
   "version": "3.10.9"
  }
 },
 "nbformat": 4,
 "nbformat_minor": 5
}
