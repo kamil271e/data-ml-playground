{
 "cells": [
  {
   "cell_type": "markdown",
   "id": "2277b3b1-d03d-4dab-8693-e74d0d25f7ed",
   "metadata": {},
   "source": [
    "Short press info - 46 categories"
   ]
  },
  {
   "cell_type": "code",
   "execution_count": 1,
   "id": "20678277-5c0c-4c6b-8969-aacb0a7f6d5b",
   "metadata": {},
   "outputs": [
    {
     "name": "stderr",
     "output_type": "stream",
     "text": [
      "2023-03-09 13:00:33.585430: I tensorflow/core/platform/cpu_feature_guard.cc:193] This TensorFlow binary is optimized with oneAPI Deep Neural Network Library (oneDNN) to use the following CPU instructions in performance-critical operations:  SSE4.1 SSE4.2 AVX AVX2 AVX512F AVX512_VNNI FMA\n",
      "To enable them in other operations, rebuild TensorFlow with the appropriate compiler flags.\n",
      "2023-03-09 13:00:33.648809: I tensorflow/core/util/port.cc:104] oneDNN custom operations are on. You may see slightly different numerical results due to floating-point round-off errors from different computation orders. To turn them off, set the environment variable `TF_ENABLE_ONEDNN_OPTS=0`.\n"
     ]
    }
   ],
   "source": [
    "from keras.layers import Dense\n",
    "from keras.models import Sequential\n",
    "from keras.datasets import reuters\n",
    "from keras.utils import to_categorical\n",
    "import numpy as np\n",
    "import sys\n",
    "import os\n",
    "sys.path.append('../')\n",
    "os.environ[\"CUDA_VISIBLE_DEVICES\"] = \"-1\"\n",
    "from utils import acc_plot, loss_plot"
   ]
  },
  {
   "cell_type": "code",
   "execution_count": 2,
   "id": "f3e1000d-f54e-4cee-8f2c-23b2724821f3",
   "metadata": {},
   "outputs": [],
   "source": [
    "(X_train, y_train), (X_test, y_test) = reuters.load_data(num_words=10000) "
   ]
  },
  {
   "cell_type": "code",
   "execution_count": 3,
   "id": "45122e9a-0ad6-426d-b9ff-86ae40fbd8fc",
   "metadata": {},
   "outputs": [
    {
     "data": {
      "text/plain": [
       "46"
      ]
     },
     "execution_count": 3,
     "metadata": {},
     "output_type": "execute_result"
    }
   ],
   "source": [
    "len(set(y_train))"
   ]
  },
  {
   "cell_type": "code",
   "execution_count": 4,
   "id": "9bcf4833-82ab-48d6-ba50-da4cf82e7b09",
   "metadata": {},
   "outputs": [
    {
     "data": {
      "text/plain": [
       "[1, 2, 2, 8, 43, 10, 447, 5, 25, 207]"
      ]
     },
     "execution_count": 4,
     "metadata": {},
     "output_type": "execute_result"
    }
   ],
   "source": [
    "X_train[0][:10] # word indexes again - transformation needed e.g. one-hot encoding (to_categorical)"
   ]
  },
  {
   "cell_type": "code",
   "execution_count": 5,
   "id": "9e1b1a69-c486-4092-9d9b-768b464323f5",
   "metadata": {},
   "outputs": [],
   "source": [
    "y_train = to_categorical(y_train)\n",
    "y_test = to_categorical(y_test)"
   ]
  },
  {
   "cell_type": "code",
   "execution_count": 6,
   "id": "b497c84b-2984-4957-9531-d7b5f92ea85f",
   "metadata": {},
   "outputs": [],
   "source": [
    "def vectorize_sequences(sequences, dimensions=10000):\n",
    "    results = np.zeros((len(sequences), dimensions))\n",
    "    for i, sequence in enumerate(sequences):\n",
    "        results[i, sequence] = 1\n",
    "    return results"
   ]
  },
  {
   "cell_type": "code",
   "execution_count": 7,
   "id": "d499ff18-444b-4990-a800-29d46a2e2246",
   "metadata": {},
   "outputs": [],
   "source": [
    "X_test = vectorize_sequences(X_test)\n",
    "X_train = vectorize_sequences(X_train)"
   ]
  },
  {
   "cell_type": "code",
   "execution_count": 8,
   "id": "72462fd2-83ce-490b-9698-0e4bc0d68b32",
   "metadata": {},
   "outputs": [
    {
     "name": "stderr",
     "output_type": "stream",
     "text": [
      "2023-03-09 13:00:35.496827: E tensorflow/compiler/xla/stream_executor/cuda/cuda_driver.cc:267] failed call to cuInit: CUDA_ERROR_NO_DEVICE: no CUDA-capable device is detected\n",
      "2023-03-09 13:00:35.496871: I tensorflow/compiler/xla/stream_executor/cuda/cuda_diagnostics.cc:169] retrieving CUDA diagnostic information for host: kk21\n",
      "2023-03-09 13:00:35.496896: I tensorflow/compiler/xla/stream_executor/cuda/cuda_diagnostics.cc:176] hostname: kk21\n",
      "2023-03-09 13:00:35.497044: I tensorflow/compiler/xla/stream_executor/cuda/cuda_diagnostics.cc:200] libcuda reported version is: 515.86.1\n",
      "2023-03-09 13:00:35.497067: I tensorflow/compiler/xla/stream_executor/cuda/cuda_diagnostics.cc:204] kernel reported version is: 515.86.1\n",
      "2023-03-09 13:00:35.497072: I tensorflow/compiler/xla/stream_executor/cuda/cuda_diagnostics.cc:310] kernel version seems to match DSO: 515.86.1\n",
      "2023-03-09 13:00:35.497335: I tensorflow/core/platform/cpu_feature_guard.cc:193] This TensorFlow binary is optimized with oneAPI Deep Neural Network Library (oneDNN) to use the following CPU instructions in performance-critical operations:  SSE4.1 SSE4.2 AVX AVX2 AVX512F AVX512_VNNI FMA\n",
      "To enable them in other operations, rebuild TensorFlow with the appropriate compiler flags.\n"
     ]
    }
   ],
   "source": [
    "model = Sequential([\n",
    "    Dense(64, activation='relu', input_shape=(10000,)),\n",
    "    Dense(64, activation='relu'),\n",
    "    Dense(46, activation='softmax')\n",
    "])"
   ]
  },
  {
   "cell_type": "code",
   "execution_count": 9,
   "id": "64d7c78f-9c2b-48ab-81dd-a931e4e19db7",
   "metadata": {},
   "outputs": [],
   "source": [
    "model.compile(optimizer='adam', loss='categorical_crossentropy', metrics=['accuracy'])"
   ]
  },
  {
   "cell_type": "code",
   "execution_count": 10,
   "id": "8b91223d-e1e7-4faa-aba6-8545a42e730d",
   "metadata": {},
   "outputs": [],
   "source": [
    "X_val = X_train[:1000]\n",
    "X_train = X_train[1000:]\n",
    "\n",
    "y_val = y_train[:1000]\n",
    "y_train = y_train[1000:]"
   ]
  },
  {
   "cell_type": "code",
   "execution_count": 11,
   "id": "8b6831ba-79c2-469a-82d8-1550804520b2",
   "metadata": {},
   "outputs": [
    {
     "name": "stdout",
     "output_type": "stream",
     "text": [
      "Epoch 1/20\n",
      "16/16 [==============================] - 1s 17ms/step - loss: 3.3008 - accuracy: 0.3311 - val_loss: 2.6379 - val_accuracy: 0.4690\n",
      "Epoch 2/20\n",
      "16/16 [==============================] - 0s 9ms/step - loss: 2.0976 - accuracy: 0.5930 - val_loss: 1.7222 - val_accuracy: 0.6370\n",
      "Epoch 3/20\n",
      "16/16 [==============================] - 0s 9ms/step - loss: 1.4171 - accuracy: 0.6954 - val_loss: 1.3325 - val_accuracy: 0.7020\n",
      "Epoch 4/20\n",
      "16/16 [==============================] - 0s 9ms/step - loss: 1.0846 - accuracy: 0.7603 - val_loss: 1.1432 - val_accuracy: 0.7520\n",
      "Epoch 5/20\n",
      "16/16 [==============================] - 0s 9ms/step - loss: 0.8603 - accuracy: 0.8132 - val_loss: 1.0486 - val_accuracy: 0.7730\n",
      "Epoch 6/20\n",
      "16/16 [==============================] - 0s 11ms/step - loss: 0.6786 - accuracy: 0.8507 - val_loss: 0.9811 - val_accuracy: 0.7860\n",
      "Epoch 7/20\n",
      "16/16 [==============================] - 0s 11ms/step - loss: 0.5377 - accuracy: 0.8836 - val_loss: 0.9442 - val_accuracy: 0.8030\n",
      "Epoch 8/20\n",
      "16/16 [==============================] - 0s 10ms/step - loss: 0.4222 - accuracy: 0.9104 - val_loss: 0.9248 - val_accuracy: 0.8080\n",
      "Epoch 9/20\n",
      "16/16 [==============================] - 0s 10ms/step - loss: 0.3367 - accuracy: 0.9262 - val_loss: 0.9166 - val_accuracy: 0.8120\n",
      "Epoch 10/20\n",
      "16/16 [==============================] - 0s 12ms/step - loss: 0.2721 - accuracy: 0.9407 - val_loss: 0.9153 - val_accuracy: 0.8210\n",
      "Epoch 11/20\n",
      "16/16 [==============================] - 0s 10ms/step - loss: 0.2239 - accuracy: 0.9474 - val_loss: 0.9263 - val_accuracy: 0.8210\n",
      "Epoch 12/20\n",
      "16/16 [==============================] - 0s 13ms/step - loss: 0.1870 - accuracy: 0.9540 - val_loss: 0.9550 - val_accuracy: 0.8100\n",
      "Epoch 13/20\n",
      "16/16 [==============================] - 0s 11ms/step - loss: 0.1616 - accuracy: 0.9565 - val_loss: 0.9555 - val_accuracy: 0.8160\n",
      "Epoch 14/20\n",
      "16/16 [==============================] - 0s 12ms/step - loss: 0.1431 - accuracy: 0.9582 - val_loss: 0.9786 - val_accuracy: 0.8130\n",
      "Epoch 15/20\n",
      "16/16 [==============================] - 0s 10ms/step - loss: 0.1324 - accuracy: 0.9580 - val_loss: 1.0052 - val_accuracy: 0.8170\n",
      "Epoch 16/20\n",
      "16/16 [==============================] - 0s 10ms/step - loss: 0.1254 - accuracy: 0.9594 - val_loss: 1.0007 - val_accuracy: 0.8070\n",
      "Epoch 17/20\n",
      "16/16 [==============================] - 0s 11ms/step - loss: 0.1174 - accuracy: 0.9592 - val_loss: 1.0335 - val_accuracy: 0.8100\n",
      "Epoch 18/20\n",
      "16/16 [==============================] - 0s 11ms/step - loss: 0.1088 - accuracy: 0.9583 - val_loss: 1.0209 - val_accuracy: 0.8130\n",
      "Epoch 19/20\n",
      "16/16 [==============================] - 0s 10ms/step - loss: 0.1048 - accuracy: 0.9588 - val_loss: 1.0495 - val_accuracy: 0.8140\n",
      "Epoch 20/20\n",
      "16/16 [==============================] - 0s 10ms/step - loss: 0.1002 - accuracy: 0.9594 - val_loss: 1.0446 - val_accuracy: 0.8110\n"
     ]
    }
   ],
   "source": [
    "history = model.fit(X_train, y_train, epochs=20, batch_size=512, validation_data=(X_val, y_val))"
   ]
  },
  {
   "cell_type": "code",
   "execution_count": 12,
   "id": "da542a6d-6ccd-46d5-b4d5-7902d3a42518",
   "metadata": {},
   "outputs": [
    {
     "data": {
      "image/png": "[encoded data removed]",
      "text/plain": [
       "<Figure size 640x480 with 1 Axes>"
      ]
     },
     "metadata": {},
     "output_type": "display_data"
    }
   ],
   "source": [
    "history_dict = history.history\n",
    "loss_plot(history_dict)"
   ]
  },
  {
   "cell_type": "markdown",
   "id": "da8afad6-4ef3-4ad8-9f78-068f26aa77e3",
   "metadata": {},
   "source": [
    "Loss stops decreasing somewhere around 9 epochs."
   ]
  },
  {
   "cell_type": "code",
   "execution_count": 13,
   "id": "7ec9a23f-8868-4207-a547-3f4c1ba5dd89",
   "metadata": {},
   "outputs": [
    {
     "data": {
      "image/png": "[encoded data removed]",
      "text/plain": [
       "<Figure size 640x480 with 1 Axes>"
      ]
     },
     "metadata": {},
     "output_type": "display_data"
    }
   ],
   "source": [
    "acc_plot(history_dict)"
   ]
  },
  {
   "cell_type": "code",
   "execution_count": 14,
   "id": "bea10483-a926-43a9-a9de-245cdaeb9e7c",
   "metadata": {},
   "outputs": [
    {
     "name": "stdout",
     "output_type": "stream",
     "text": [
      "Epoch 1/9\n",
      "16/16 [==============================] - 0s 14ms/step - loss: 0.0969 - accuracy: 0.9614 - val_loss: 1.0472 - val_accuracy: 0.8160\n",
      "Epoch 2/9\n",
      "16/16 [==============================] - 0s 12ms/step - loss: 0.0947 - accuracy: 0.9617 - val_loss: 1.1069 - val_accuracy: 0.7960\n",
      "Epoch 3/9\n",
      "16/16 [==============================] - 0s 11ms/step - loss: 0.0911 - accuracy: 0.9618 - val_loss: 1.0710 - val_accuracy: 0.8150\n",
      "Epoch 4/9\n",
      "16/16 [==============================] - 0s 10ms/step - loss: 0.0898 - accuracy: 0.9619 - val_loss: 1.0801 - val_accuracy: 0.8090\n",
      "Epoch 5/9\n",
      "16/16 [==============================] - 0s 10ms/step - loss: 0.0886 - accuracy: 0.9632 - val_loss: 1.0980 - val_accuracy: 0.8130\n",
      "Epoch 6/9\n",
      "16/16 [==============================] - 0s 10ms/step - loss: 0.0926 - accuracy: 0.9632 - val_loss: 1.1186 - val_accuracy: 0.8060\n",
      "Epoch 7/9\n",
      "16/16 [==============================] - 0s 11ms/step - loss: 0.0903 - accuracy: 0.9615 - val_loss: 1.1251 - val_accuracy: 0.8090\n",
      "Epoch 8/9\n",
      "16/16 [==============================] - 0s 10ms/step - loss: 0.0893 - accuracy: 0.9627 - val_loss: 1.1029 - val_accuracy: 0.8100\n",
      "Epoch 9/9\n",
      "16/16 [==============================] - 0s 9ms/step - loss: 0.0846 - accuracy: 0.9617 - val_loss: 1.1087 - val_accuracy: 0.8070\n"
     ]
    },
    {
     "data": {
      "text/plain": [
       "<keras.callbacks.History at 0x7f66736c98d0>"
      ]
     },
     "execution_count": 14,
     "metadata": {},
     "output_type": "execute_result"
    }
   ],
   "source": [
    "model.fit(X_train, y_train, epochs=9, batch_size=512, validation_data=(X_val, y_val))"
   ]
  },
  {
   "cell_type": "code",
   "execution_count": 15,
   "id": "99c08ddf-7af6-4d2a-b3e4-464d29bfafd8",
   "metadata": {},
   "outputs": [
    {
     "name": "stdout",
     "output_type": "stream",
     "text": [
      "71/71 [==============================] - 0s 2ms/step - loss: 1.2206 - accuracy: 0.7939\n"
     ]
    }
   ],
   "source": [
    "res = model.evaluate(X_test, y_test)"
   ]
  },
  {
   "cell_type": "code",
   "execution_count": 16,
   "id": "06d33720-ff83-4cf4-aa4c-dc802d272352",
   "metadata": {},
   "outputs": [
    {
     "name": "stdout",
     "output_type": "stream",
     "text": [
      "71/71 [==============================] - 0s 710us/step\n"
     ]
    }
   ],
   "source": [
    "pred = model.predict(X_test)"
   ]
  },
  {
   "cell_type": "code",
   "execution_count": 17,
   "id": "7f83d769-e23a-46fd-af7b-fa457c3c42ba",
   "metadata": {},
   "outputs": [
    {
     "data": {
      "text/plain": [
       "(46, 3, 1.0)"
      ]
     },
     "execution_count": 17,
     "metadata": {},
     "output_type": "execute_result"
    }
   ],
   "source": [
    "len(pred[0]), np.argmax(pred[0]), np.sum(pred[0]) # hmm it should sum up to 1"
   ]
  },
  {
   "cell_type": "markdown",
   "id": "96d6a5b0-d4da-4ea2-b7fb-1158a77933f2",
   "metadata": {},
   "source": [
    "Different options for labels:"
   ]
  },
  {
   "cell_type": "code",
   "execution_count": 18,
   "id": "cc1ff019-d0f2-4320-8cf8-f842e759f66b",
   "metadata": {},
   "outputs": [],
   "source": [
    "y_train = np.array(y_train)\n",
    "y_test = np.array(y_test)\n",
    "# however, it is necessary to change the function of the loss\n",
    "model.compile(optimizer='rmsprop',loss='sparse_categorical_crossentropy', metrics=['accuracy'])"
   ]
  }
 ],
 "metadata": {
  "kernelspec": {
   "display_name": "Python 3 (ipykernel)",
   "language": "python",
   "name": "python3"
  },
  "language_info": {
   "codemirror_mode": {
    "name": "ipython",
    "version": 3
   },
   "file_extension": ".py",
   "mimetype": "text/x-python",
   "name": "python",
   "nbconvert_exporter": "python",
   "pygments_lexer": "ipython3",
   "version": "3.10.9"
  }
 },
 "nbformat": 4,
 "nbformat_minor": 5
}
