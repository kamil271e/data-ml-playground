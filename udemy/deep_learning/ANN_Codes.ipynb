{
 "cells": [
  {
   "cell_type": "code",
   "execution_count": 1,
   "metadata": {
    "id": "vjEGIlmPuzhM"
   },
   "outputs": [],
   "source": [
    "import sys\n",
    "import numpy as np\n",
    "import matplotlib.pyplot as plt\n",
    "import pandas as pd\n",
    "np.set_printoptions(threshold=sys.maxsize)"
   ]
  },
  {
   "cell_type": "code",
   "execution_count": 5,
   "metadata": {
    "id": "2-59pHObwEiu"
   },
   "outputs": [
    {
     "data": {
      "text/html": [
       "<div>\n",
       "<style scoped>\n",
       "    .dataframe tbody tr th:only-of-type {\n",
       "        vertical-align: middle;\n",
       "    }\n",
       "\n",
       "    .dataframe tbody tr th {\n",
       "        vertical-align: top;\n",
       "    }\n",
       "\n",
       "    .dataframe thead th {\n",
       "        text-align: right;\n",
       "    }\n",
       "</style>\n",
       "<table border=\"1\" class=\"dataframe\">\n",
       "  <thead>\n",
       "    <tr style=\"text-align: right;\">\n",
       "      <th></th>\n",
       "      <th>RowNumber</th>\n",
       "      <th>CustomerId</th>\n",
       "      <th>Surname</th>\n",
       "      <th>CreditScore</th>\n",
       "      <th>Geography</th>\n",
       "      <th>Gender</th>\n",
       "      <th>Age</th>\n",
       "      <th>Tenure</th>\n",
       "      <th>Balance</th>\n",
       "      <th>NumOfProducts</th>\n",
       "      <th>HasCrCard</th>\n",
       "      <th>IsActiveMember</th>\n",
       "      <th>EstimatedSalary</th>\n",
       "      <th>Exited</th>\n",
       "    </tr>\n",
       "  </thead>\n",
       "  <tbody>\n",
       "    <tr>\n",
       "      <th>0</th>\n",
       "      <td>1</td>\n",
       "      <td>15634602</td>\n",
       "      <td>Hargrave</td>\n",
       "      <td>619</td>\n",
       "      <td>France</td>\n",
       "      <td>Female</td>\n",
       "      <td>42</td>\n",
       "      <td>2</td>\n",
       "      <td>0.00</td>\n",
       "      <td>1</td>\n",
       "      <td>1</td>\n",
       "      <td>1</td>\n",
       "      <td>101348.88</td>\n",
       "      <td>1</td>\n",
       "    </tr>\n",
       "    <tr>\n",
       "      <th>1</th>\n",
       "      <td>2</td>\n",
       "      <td>15647311</td>\n",
       "      <td>Hill</td>\n",
       "      <td>608</td>\n",
       "      <td>Spain</td>\n",
       "      <td>Female</td>\n",
       "      <td>41</td>\n",
       "      <td>1</td>\n",
       "      <td>83807.86</td>\n",
       "      <td>1</td>\n",
       "      <td>0</td>\n",
       "      <td>1</td>\n",
       "      <td>112542.58</td>\n",
       "      <td>0</td>\n",
       "    </tr>\n",
       "    <tr>\n",
       "      <th>2</th>\n",
       "      <td>3</td>\n",
       "      <td>15619304</td>\n",
       "      <td>Onio</td>\n",
       "      <td>502</td>\n",
       "      <td>France</td>\n",
       "      <td>Female</td>\n",
       "      <td>42</td>\n",
       "      <td>8</td>\n",
       "      <td>159660.80</td>\n",
       "      <td>3</td>\n",
       "      <td>1</td>\n",
       "      <td>0</td>\n",
       "      <td>113931.57</td>\n",
       "      <td>1</td>\n",
       "    </tr>\n",
       "    <tr>\n",
       "      <th>3</th>\n",
       "      <td>4</td>\n",
       "      <td>15701354</td>\n",
       "      <td>Boni</td>\n",
       "      <td>699</td>\n",
       "      <td>France</td>\n",
       "      <td>Female</td>\n",
       "      <td>39</td>\n",
       "      <td>1</td>\n",
       "      <td>0.00</td>\n",
       "      <td>2</td>\n",
       "      <td>0</td>\n",
       "      <td>0</td>\n",
       "      <td>93826.63</td>\n",
       "      <td>0</td>\n",
       "    </tr>\n",
       "    <tr>\n",
       "      <th>4</th>\n",
       "      <td>5</td>\n",
       "      <td>15737888</td>\n",
       "      <td>Mitchell</td>\n",
       "      <td>850</td>\n",
       "      <td>Spain</td>\n",
       "      <td>Female</td>\n",
       "      <td>43</td>\n",
       "      <td>2</td>\n",
       "      <td>125510.82</td>\n",
       "      <td>1</td>\n",
       "      <td>1</td>\n",
       "      <td>1</td>\n",
       "      <td>79084.10</td>\n",
       "      <td>0</td>\n",
       "    </tr>\n",
       "    <tr>\n",
       "      <th>...</th>\n",
       "      <td>...</td>\n",
       "      <td>...</td>\n",
       "      <td>...</td>\n",
       "      <td>...</td>\n",
       "      <td>...</td>\n",
       "      <td>...</td>\n",
       "      <td>...</td>\n",
       "      <td>...</td>\n",
       "      <td>...</td>\n",
       "      <td>...</td>\n",
       "      <td>...</td>\n",
       "      <td>...</td>\n",
       "      <td>...</td>\n",
       "      <td>...</td>\n",
       "    </tr>\n",
       "    <tr>\n",
       "      <th>9995</th>\n",
       "      <td>9996</td>\n",
       "      <td>15606229</td>\n",
       "      <td>Obijiaku</td>\n",
       "      <td>771</td>\n",
       "      <td>France</td>\n",
       "      <td>Male</td>\n",
       "      <td>39</td>\n",
       "      <td>5</td>\n",
       "      <td>0.00</td>\n",
       "      <td>2</td>\n",
       "      <td>1</td>\n",
       "      <td>0</td>\n",
       "      <td>96270.64</td>\n",
       "      <td>0</td>\n",
       "    </tr>\n",
       "    <tr>\n",
       "      <th>9996</th>\n",
       "      <td>9997</td>\n",
       "      <td>15569892</td>\n",
       "      <td>Johnstone</td>\n",
       "      <td>516</td>\n",
       "      <td>France</td>\n",
       "      <td>Male</td>\n",
       "      <td>35</td>\n",
       "      <td>10</td>\n",
       "      <td>57369.61</td>\n",
       "      <td>1</td>\n",
       "      <td>1</td>\n",
       "      <td>1</td>\n",
       "      <td>101699.77</td>\n",
       "      <td>0</td>\n",
       "    </tr>\n",
       "    <tr>\n",
       "      <th>9997</th>\n",
       "      <td>9998</td>\n",
       "      <td>15584532</td>\n",
       "      <td>Liu</td>\n",
       "      <td>709</td>\n",
       "      <td>France</td>\n",
       "      <td>Female</td>\n",
       "      <td>36</td>\n",
       "      <td>7</td>\n",
       "      <td>0.00</td>\n",
       "      <td>1</td>\n",
       "      <td>0</td>\n",
       "      <td>1</td>\n",
       "      <td>42085.58</td>\n",
       "      <td>1</td>\n",
       "    </tr>\n",
       "    <tr>\n",
       "      <th>9998</th>\n",
       "      <td>9999</td>\n",
       "      <td>15682355</td>\n",
       "      <td>Sabbatini</td>\n",
       "      <td>772</td>\n",
       "      <td>Germany</td>\n",
       "      <td>Male</td>\n",
       "      <td>42</td>\n",
       "      <td>3</td>\n",
       "      <td>75075.31</td>\n",
       "      <td>2</td>\n",
       "      <td>1</td>\n",
       "      <td>0</td>\n",
       "      <td>92888.52</td>\n",
       "      <td>1</td>\n",
       "    </tr>\n",
       "    <tr>\n",
       "      <th>9999</th>\n",
       "      <td>10000</td>\n",
       "      <td>15628319</td>\n",
       "      <td>Walker</td>\n",
       "      <td>792</td>\n",
       "      <td>France</td>\n",
       "      <td>Female</td>\n",
       "      <td>28</td>\n",
       "      <td>4</td>\n",
       "      <td>130142.79</td>\n",
       "      <td>1</td>\n",
       "      <td>1</td>\n",
       "      <td>0</td>\n",
       "      <td>38190.78</td>\n",
       "      <td>0</td>\n",
       "    </tr>\n",
       "  </tbody>\n",
       "</table>\n",
       "<p>10000 rows × 14 columns</p>\n",
       "</div>"
      ],
      "text/plain": [
       "      RowNumber  CustomerId    Surname  CreditScore Geography  Gender  Age  \\\n",
       "0             1    15634602   Hargrave          619    France  Female   42   \n",
       "1             2    15647311       Hill          608     Spain  Female   41   \n",
       "2             3    15619304       Onio          502    France  Female   42   \n",
       "3             4    15701354       Boni          699    France  Female   39   \n",
       "4             5    15737888   Mitchell          850     Spain  Female   43   \n",
       "...         ...         ...        ...          ...       ...     ...  ...   \n",
       "9995       9996    15606229   Obijiaku          771    France    Male   39   \n",
       "9996       9997    15569892  Johnstone          516    France    Male   35   \n",
       "9997       9998    15584532        Liu          709    France  Female   36   \n",
       "9998       9999    15682355  Sabbatini          772   Germany    Male   42   \n",
       "9999      10000    15628319     Walker          792    France  Female   28   \n",
       "\n",
       "      Tenure    Balance  NumOfProducts  HasCrCard  IsActiveMember  \\\n",
       "0          2       0.00              1          1               1   \n",
       "1          1   83807.86              1          0               1   \n",
       "2          8  159660.80              3          1               0   \n",
       "3          1       0.00              2          0               0   \n",
       "4          2  125510.82              1          1               1   \n",
       "...      ...        ...            ...        ...             ...   \n",
       "9995       5       0.00              2          1               0   \n",
       "9996      10   57369.61              1          1               1   \n",
       "9997       7       0.00              1          0               1   \n",
       "9998       3   75075.31              2          1               0   \n",
       "9999       4  130142.79              1          1               0   \n",
       "\n",
       "      EstimatedSalary  Exited  \n",
       "0           101348.88       1  \n",
       "1           112542.58       0  \n",
       "2           113931.57       1  \n",
       "3            93826.63       0  \n",
       "4            79084.10       0  \n",
       "...               ...     ...  \n",
       "9995         96270.64       0  \n",
       "9996        101699.77       0  \n",
       "9997         42085.58       1  \n",
       "9998         92888.52       1  \n",
       "9999         38190.78       0  \n",
       "\n",
       "[10000 rows x 14 columns]"
      ]
     },
     "execution_count": 5,
     "metadata": {},
     "output_type": "execute_result"
    }
   ],
   "source": [
    "df = pd.read_csv('Churn_Modelling.csv')\n",
    "df"
   ]
  },
  {
   "cell_type": "code",
   "execution_count": 93,
   "metadata": {
    "id": "ehjWpZiFwLHr"
   },
   "outputs": [
    {
     "data": {
      "text/plain": [
       "array([[619, 'France', 'Female', 42, 2, 0.0, 1, 1, 1, 101348.88],\n",
       "       [608, 'Spain', 'Female', 41, 1, 83807.86, 1, 0, 1, 112542.58],\n",
       "       [502, 'France', 'Female', 42, 8, 159660.8, 3, 1, 0, 113931.57],\n",
       "       [699, 'France', 'Female', 39, 1, 0.0, 2, 0, 0, 93826.63],\n",
       "       [850, 'Spain', 'Female', 43, 2, 125510.82, 1, 1, 1, 79084.1]],\n",
       "      dtype=object)"
      ]
     },
     "execution_count": 93,
     "metadata": {},
     "output_type": "execute_result"
    }
   ],
   "source": [
    "X = df.iloc[:, 3:13].values\n",
    "y = df.iloc[:, 13].values\n",
    "X[:5]"
   ]
  },
  {
   "cell_type": "code",
   "execution_count": 94,
   "metadata": {
    "id": "67WuJaqtwPw1"
   },
   "outputs": [
    {
     "data": {
      "text/plain": [
       "array([[619, 'France', 0, 42, 2, 0.0, 1, 1, 1, 101348.88],\n",
       "       [608, 'Spain', 0, 41, 1, 83807.86, 1, 0, 1, 112542.58],\n",
       "       [502, 'France', 0, 42, 8, 159660.8, 3, 1, 0, 113931.57],\n",
       "       [699, 'France', 0, 39, 1, 0.0, 2, 0, 0, 93826.63],\n",
       "       [850, 'Spain', 0, 43, 2, 125510.82, 1, 1, 1, 79084.1]],\n",
       "      dtype=object)"
      ]
     },
     "execution_count": 94,
     "metadata": {},
     "output_type": "execute_result"
    }
   ],
   "source": [
    "from sklearn.preprocessing import LabelEncoder, OneHotEncoder\n",
    "# labelencoder - provides a very efficient tool for encoding\n",
    "# the levels of categorical features into numeric values. \n",
    "#X[:,2] entire gender column\n",
    "labelencoder_gender = LabelEncoder()\n",
    "X[:, 2] = labelencoder_gender.fit_transform(X[:, 2])\n",
    "X[:5]"
   ]
  },
  {
   "cell_type": "code",
   "execution_count": 95,
   "metadata": {
    "id": "2wdAvizawbHi"
   },
   "outputs": [
    {
     "data": {
      "text/plain": [
       "array([['0.0', '0.0', '619', '0', '42', '2', '0.0', '1', '1', '1',\n",
       "        '101348.88'],\n",
       "       ['0.0', '1.0', '608', '0', '41', '1', '83807.86', '1', '0', '1',\n",
       "        '112542.58'],\n",
       "       ['0.0', '0.0', '502', '0', '42', '8', '159660.8', '3', '1', '0',\n",
       "        '113931.57'],\n",
       "       ['0.0', '0.0', '699', '0', '39', '1', '0.0', '2', '0', '0',\n",
       "        '93826.63'],\n",
       "       ['0.0', '1.0', '850', '0', '43', '2', '125510.82', '1', '1', '1',\n",
       "        '79084.1']], dtype='<U9')"
      ]
     },
     "execution_count": 95,
     "metadata": {},
     "output_type": "execute_result"
    }
   ],
   "source": [
    "from sklearn.compose import ColumnTransformer\n",
    "# remainder - by default only the column transformed would be returned by \n",
    "# transformer,'passthrough' they will be unchanged, 'ohe' just a name of t-former\n",
    "ct = ColumnTransformer([('ohe', OneHotEncoder(), [1])], remainder='passthrough')\n",
    "X = np.array(ct.fit_transform(X), dtype = str) # float? working fine too\n",
    "X = X[:, 1:]\n",
    "X[:5]"
   ]
  },
  {
   "cell_type": "code",
   "execution_count": 96,
   "metadata": {
    "id": "aLkHpNnnwdS9"
   },
   "outputs": [],
   "source": [
    "from sklearn.model_selection import train_test_split\n",
    "X_train, X_test, y_train, y_test = train_test_split(X, y,\n",
    "                                    test_size = 0.2, random_state = 0)"
   ]
  },
  {
   "cell_type": "code",
   "execution_count": 97,
   "metadata": {
    "id": "wwa2uFeCwfwk"
   },
   "outputs": [],
   "source": [
    "from sklearn.preprocessing import StandardScaler\n",
    "sc = StandardScaler()\n",
    "X_train = sc.fit_transform(X_train)\n",
    "X_test = sc.transform(X_test)"
   ]
  },
  {
   "cell_type": "code",
   "execution_count": 79,
   "metadata": {},
   "outputs": [
    {
     "data": {
      "text/plain": [
       "array([[ 1.75486502, -0.57369368, -0.55204276, -1.09168714, -0.36890377,\n",
       "         1.04473698,  0.8793029 , -0.92159124,  0.64259497,  0.9687384 ,\n",
       "         1.61085707],\n",
       "       [-0.5698444 , -0.57369368, -1.31490297, -1.09168714,  0.10961719,\n",
       "        -1.031415  ,  0.42972196, -0.92159124,  0.64259497, -1.03227043,\n",
       "         0.49587037],\n",
       "       [-0.5698444 ,  1.74309049,  0.57162971, -1.09168714,  0.30102557,\n",
       "         1.04473698,  0.30858264, -0.92159124,  0.64259497,  0.9687384 ,\n",
       "        -0.42478674]])"
      ]
     },
     "execution_count": 91,
     "metadata": {},
     "output_type": "execute_result"
    }
   ],
   "source": [
    "X_test[:3]"
   ]
  },
  {
   "cell_type": "code",
   "execution_count": 100,
   "metadata": {
    "id": "Jzt0vwckwjMd"
   },
   "outputs": [],
   "source": [
    "from tensorflow.keras.models import Sequential \n",
    "from keras.layers import Dense\n",
    "# sequential allows to build an ANN as a sequence of layers\n",
    "# dense allows to create fully conneted network\n",
    "# kernel_initilaizer is used to initialize a weights in a network\n",
    "\n",
    "#classifier = Sequential()\n",
    "#classifier.add(Dense(units = 6, kernel_initializer = 'uniform', activation = 'relu', input_dim = 11))\n",
    "#classifier.add(Dense(units = 6, kernel_initializer = 'uniform', activation = 'relu'))\n",
    "#classifier.add(Dense(units = 1, kernel_initializer = 'uniform', activation = 'sigmoid'))\n",
    "#classifier.compile(optimizer = 'adam', loss = 'binary_crossentropy', metrics = ['accuracy'])\n",
    "\n",
    "classifier = Sequential([\n",
    "    Dense(units = 11, kernel_initializer='uniform', activation='relu', input_dim=11),\n",
    "    Dense(units = 11, kernel_initializer='uniform', activation='relu'),\n",
    "    Dense(units = 1, kernel_initializer='uniform', activation='sigmoid')\n",
    "])\n",
    "classifier.compile(optimizer = 'adamax', loss = 'binary_crossentropy', metrics = ['accuracy'])\n"
   ]
  },
  {
   "cell_type": "code",
   "execution_count": 101,
   "metadata": {
    "id": "AEX_JIDzxZvd"
   },
   "outputs": [
    {
     "name": "stdout",
     "output_type": "stream",
     "text": [
      "Epoch 1/100\n",
      "800/800 [==============================] - 2s 2ms/step - loss: 0.5294 - accuracy: 0.7958\n",
      "Epoch 2/100\n",
      "800/800 [==============================] - 1s 2ms/step - loss: 0.4387 - accuracy: 0.7960\n",
      "Epoch 3/100\n",
      "800/800 [==============================] - 1s 2ms/step - loss: 0.4311 - accuracy: 0.7960\n",
      "Epoch 4/100\n",
      "800/800 [==============================] - 1s 2ms/step - loss: 0.4272 - accuracy: 0.7960\n",
      "Epoch 5/100\n",
      "800/800 [==============================] - 1s 2ms/step - loss: 0.4245 - accuracy: 0.7960\n",
      "Epoch 6/100\n",
      "800/800 [==============================] - 1s 2ms/step - loss: 0.4217 - accuracy: 0.8031\n",
      "Epoch 7/100\n",
      "800/800 [==============================] - 2s 2ms/step - loss: 0.4189 - accuracy: 0.8210\n",
      "Epoch 8/100\n",
      "800/800 [==============================] - 1s 2ms/step - loss: 0.4164 - accuracy: 0.8259\n",
      "Epoch 9/100\n",
      "800/800 [==============================] - 2s 2ms/step - loss: 0.4139 - accuracy: 0.8304\n",
      "Epoch 10/100\n",
      "800/800 [==============================] - 2s 2ms/step - loss: 0.4116 - accuracy: 0.8328\n",
      "Epoch 11/100\n",
      "800/800 [==============================] - 1s 2ms/step - loss: 0.4093 - accuracy: 0.8340\n",
      "Epoch 12/100\n",
      "800/800 [==============================] - 1s 2ms/step - loss: 0.4072 - accuracy: 0.8359\n",
      "Epoch 13/100\n",
      "800/800 [==============================] - 2s 2ms/step - loss: 0.4059 - accuracy: 0.8345\n",
      "Epoch 14/100\n",
      "800/800 [==============================] - 2s 2ms/step - loss: 0.4045 - accuracy: 0.8351\n",
      "Epoch 15/100\n",
      "800/800 [==============================] - 2s 2ms/step - loss: 0.4032 - accuracy: 0.8357\n",
      "Epoch 16/100\n",
      "800/800 [==============================] - 2s 3ms/step - loss: 0.4021 - accuracy: 0.8364\n",
      "Epoch 17/100\n",
      "800/800 [==============================] - 2s 3ms/step - loss: 0.4013 - accuracy: 0.8363\n",
      "Epoch 18/100\n",
      "800/800 [==============================] - 3s 4ms/step - loss: 0.4004 - accuracy: 0.8366\n",
      "Epoch 19/100\n",
      "800/800 [==============================] - 3s 4ms/step - loss: 0.3997 - accuracy: 0.8367\n",
      "Epoch 20/100\n",
      "800/800 [==============================] - 3s 3ms/step - loss: 0.3989 - accuracy: 0.8366\n",
      "Epoch 21/100\n",
      "800/800 [==============================] - 2s 2ms/step - loss: 0.3983 - accuracy: 0.8370\n",
      "Epoch 22/100\n",
      "800/800 [==============================] - 3s 4ms/step - loss: 0.3976 - accuracy: 0.8364\n",
      "Epoch 23/100\n",
      "800/800 [==============================] - 3s 4ms/step - loss: 0.3967 - accuracy: 0.8359\n",
      "Epoch 24/100\n",
      "800/800 [==============================] - 3s 4ms/step - loss: 0.3965 - accuracy: 0.8367\n",
      "Epoch 25/100\n",
      "800/800 [==============================] - 3s 4ms/step - loss: 0.3957 - accuracy: 0.8360\n",
      "Epoch 26/100\n",
      "800/800 [==============================] - 3s 3ms/step - loss: 0.3957 - accuracy: 0.8369\n",
      "Epoch 27/100\n",
      "800/800 [==============================] - 3s 4ms/step - loss: 0.3951 - accuracy: 0.8376\n",
      "Epoch 28/100\n",
      "800/800 [==============================] - 4s 5ms/step - loss: 0.3948 - accuracy: 0.8367\n",
      "Epoch 29/100\n",
      "800/800 [==============================] - 4s 4ms/step - loss: 0.3946 - accuracy: 0.8378\n",
      "Epoch 30/100\n",
      "800/800 [==============================] - 3s 4ms/step - loss: 0.3943 - accuracy: 0.8376\n",
      "Epoch 31/100\n",
      "800/800 [==============================] - 3s 3ms/step - loss: 0.3941 - accuracy: 0.8367\n",
      "Epoch 32/100\n",
      "800/800 [==============================] - 2s 3ms/step - loss: 0.3936 - accuracy: 0.8372\n",
      "Epoch 33/100\n",
      "800/800 [==============================] - 3s 4ms/step - loss: 0.3936 - accuracy: 0.8366\n",
      "Epoch 34/100\n",
      "800/800 [==============================] - 4s 4ms/step - loss: 0.3931 - accuracy: 0.8367\n",
      "Epoch 35/100\n",
      "800/800 [==============================] - 4s 5ms/step - loss: 0.3932 - accuracy: 0.8366\n",
      "Epoch 36/100\n",
      "800/800 [==============================] - 3s 4ms/step - loss: 0.3928 - accuracy: 0.8372\n",
      "Epoch 37/100\n",
      "800/800 [==============================] - 4s 5ms/step - loss: 0.3927 - accuracy: 0.8384\n",
      "Epoch 38/100\n",
      "800/800 [==============================] - 3s 4ms/step - loss: 0.3926 - accuracy: 0.8366\n",
      "Epoch 39/100\n",
      "800/800 [==============================] - 2s 3ms/step - loss: 0.3924 - accuracy: 0.8376\n",
      "Epoch 40/100\n",
      "800/800 [==============================] - 2s 2ms/step - loss: 0.3923 - accuracy: 0.8366\n",
      "Epoch 41/100\n",
      "800/800 [==============================] - 3s 4ms/step - loss: 0.3922 - accuracy: 0.8384\n",
      "Epoch 42/100\n",
      "800/800 [==============================] - 3s 4ms/step - loss: 0.3923 - accuracy: 0.8393\n",
      "Epoch 43/100\n",
      "800/800 [==============================] - 4s 4ms/step - loss: 0.3919 - accuracy: 0.8372\n",
      "Epoch 44/100\n",
      "800/800 [==============================] - 3s 4ms/step - loss: 0.3921 - accuracy: 0.8372\n",
      "Epoch 45/100\n",
      "800/800 [==============================] - 3s 3ms/step - loss: 0.3916 - accuracy: 0.8379\n",
      "Epoch 46/100\n",
      "800/800 [==============================] - 2s 3ms/step - loss: 0.3917 - accuracy: 0.8388\n",
      "Epoch 47/100\n",
      "800/800 [==============================] - 3s 4ms/step - loss: 0.3913 - accuracy: 0.8382\n",
      "Epoch 48/100\n",
      "800/800 [==============================] - 3s 4ms/step - loss: 0.3912 - accuracy: 0.8386\n",
      "Epoch 49/100\n",
      "800/800 [==============================] - 3s 3ms/step - loss: 0.3911 - accuracy: 0.8381\n",
      "Epoch 50/100\n",
      "800/800 [==============================] - 2s 3ms/step - loss: 0.3912 - accuracy: 0.8378\n",
      "Epoch 51/100\n",
      "800/800 [==============================] - 3s 3ms/step - loss: 0.3910 - accuracy: 0.8374\n",
      "Epoch 52/100\n",
      "800/800 [==============================] - 3s 3ms/step - loss: 0.3909 - accuracy: 0.8395\n",
      "Epoch 53/100\n",
      "800/800 [==============================] - 3s 3ms/step - loss: 0.3907 - accuracy: 0.8401\n",
      "Epoch 54/100\n",
      "800/800 [==============================] - 3s 3ms/step - loss: 0.3905 - accuracy: 0.8371\n",
      "Epoch 55/100\n",
      "800/800 [==============================] - 3s 3ms/step - loss: 0.3907 - accuracy: 0.8390\n",
      "Epoch 56/100\n",
      "800/800 [==============================] - 2s 3ms/step - loss: 0.3903 - accuracy: 0.8395\n",
      "Epoch 57/100\n",
      "800/800 [==============================] - 2s 3ms/step - loss: 0.3901 - accuracy: 0.8391\n",
      "Epoch 58/100\n",
      "800/800 [==============================] - 2s 3ms/step - loss: 0.3901 - accuracy: 0.8385\n",
      "Epoch 59/100\n",
      "800/800 [==============================] - 2s 3ms/step - loss: 0.3898 - accuracy: 0.8399\n",
      "Epoch 60/100\n",
      "800/800 [==============================] - 2s 3ms/step - loss: 0.3900 - accuracy: 0.8406\n",
      "Epoch 61/100\n",
      "800/800 [==============================] - 2s 3ms/step - loss: 0.3899 - accuracy: 0.8386\n",
      "Epoch 62/100\n",
      "800/800 [==============================] - 2s 3ms/step - loss: 0.3897 - accuracy: 0.8384\n",
      "Epoch 63/100\n",
      "800/800 [==============================] - 2s 3ms/step - loss: 0.3899 - accuracy: 0.8399\n",
      "Epoch 64/100\n",
      "800/800 [==============================] - 2s 3ms/step - loss: 0.3899 - accuracy: 0.8400\n",
      "Epoch 65/100\n",
      "800/800 [==============================] - 2s 3ms/step - loss: 0.3898 - accuracy: 0.8401\n",
      "Epoch 66/100\n",
      "800/800 [==============================] - 2s 3ms/step - loss: 0.3897 - accuracy: 0.8395\n",
      "Epoch 67/100\n",
      "800/800 [==============================] - 2s 3ms/step - loss: 0.3896 - accuracy: 0.8396\n",
      "Epoch 68/100\n",
      "800/800 [==============================] - 2s 3ms/step - loss: 0.3894 - accuracy: 0.8397\n",
      "Epoch 69/100\n",
      "800/800 [==============================] - 2s 3ms/step - loss: 0.3891 - accuracy: 0.8380\n",
      "Epoch 70/100\n",
      "800/800 [==============================] - 2s 3ms/step - loss: 0.3892 - accuracy: 0.8397\n",
      "Epoch 71/100\n",
      "800/800 [==============================] - 2s 3ms/step - loss: 0.3890 - accuracy: 0.8401\n",
      "Epoch 72/100\n",
      "800/800 [==============================] - 2s 3ms/step - loss: 0.3890 - accuracy: 0.8399\n",
      "Epoch 73/100\n",
      "800/800 [==============================] - 2s 3ms/step - loss: 0.3888 - accuracy: 0.8406\n",
      "Epoch 74/100\n",
      "800/800 [==============================] - 2s 3ms/step - loss: 0.3886 - accuracy: 0.8405\n",
      "Epoch 75/100\n",
      "800/800 [==============================] - 2s 3ms/step - loss: 0.3883 - accuracy: 0.8410\n",
      "Epoch 76/100\n",
      "800/800 [==============================] - 2s 2ms/step - loss: 0.3886 - accuracy: 0.8401\n",
      "Epoch 77/100\n",
      "800/800 [==============================] - 2s 2ms/step - loss: 0.3883 - accuracy: 0.8407\n",
      "Epoch 78/100\n",
      "800/800 [==============================] - 2s 2ms/step - loss: 0.3879 - accuracy: 0.8401\n",
      "Epoch 79/100\n",
      "800/800 [==============================] - 2s 3ms/step - loss: 0.3872 - accuracy: 0.8401\n",
      "Epoch 80/100\n",
      "800/800 [==============================] - 2s 3ms/step - loss: 0.3874 - accuracy: 0.8405\n",
      "Epoch 81/100\n",
      "800/800 [==============================] - 3s 3ms/step - loss: 0.3872 - accuracy: 0.8401\n",
      "Epoch 82/100\n",
      "800/800 [==============================] - 3s 3ms/step - loss: 0.3867 - accuracy: 0.8419\n",
      "Epoch 83/100\n",
      "800/800 [==============================] - 3s 3ms/step - loss: 0.3867 - accuracy: 0.8403\n",
      "Epoch 84/100\n",
      "800/800 [==============================] - 3s 3ms/step - loss: 0.3863 - accuracy: 0.8410\n",
      "Epoch 85/100\n",
      "800/800 [==============================] - 2s 3ms/step - loss: 0.3857 - accuracy: 0.8407\n",
      "Epoch 86/100\n",
      "800/800 [==============================] - 2s 3ms/step - loss: 0.3852 - accuracy: 0.8424\n",
      "Epoch 87/100\n",
      "800/800 [==============================] - 2s 3ms/step - loss: 0.3845 - accuracy: 0.8410\n",
      "Epoch 88/100\n",
      "800/800 [==============================] - 2s 3ms/step - loss: 0.3832 - accuracy: 0.8407\n",
      "Epoch 89/100\n",
      "800/800 [==============================] - 2s 3ms/step - loss: 0.3829 - accuracy: 0.8413\n",
      "Epoch 90/100\n",
      "800/800 [==============================] - 2s 2ms/step - loss: 0.3818 - accuracy: 0.8406\n",
      "Epoch 91/100\n",
      "800/800 [==============================] - 2s 2ms/step - loss: 0.3800 - accuracy: 0.8420\n",
      "Epoch 92/100\n",
      "800/800 [==============================] - 2s 3ms/step - loss: 0.3784 - accuracy: 0.8420\n",
      "Epoch 93/100\n",
      "800/800 [==============================] - 2s 2ms/step - loss: 0.3753 - accuracy: 0.8414\n",
      "Epoch 94/100\n",
      "800/800 [==============================] - 2s 3ms/step - loss: 0.3712 - accuracy: 0.8429\n",
      "Epoch 95/100\n",
      "800/800 [==============================] - 2s 2ms/step - loss: 0.3675 - accuracy: 0.8453\n",
      "Epoch 96/100\n",
      "800/800 [==============================] - 3s 3ms/step - loss: 0.3632 - accuracy: 0.8470\n",
      "Epoch 97/100\n",
      "800/800 [==============================] - 2s 3ms/step - loss: 0.3590 - accuracy: 0.8509\n",
      "Epoch 98/100\n",
      "800/800 [==============================] - 2s 3ms/step - loss: 0.3545 - accuracy: 0.8541\n",
      "Epoch 99/100\n",
      "800/800 [==============================] - 3s 3ms/step - loss: 0.3511 - accuracy: 0.8570\n",
      "Epoch 100/100\n",
      "800/800 [==============================] - 2s 3ms/step - loss: 0.3479 - accuracy: 0.8585\n"
     ]
    },
    {
     "data": {
      "text/plain": [
       "<keras.callbacks.History at 0x7fa7edb42290>"
      ]
     },
     "execution_count": 101,
     "metadata": {},
     "output_type": "execute_result"
    }
   ],
   "source": [
    "classifier.fit(X_train, y_train, batch_size = 10, epochs = 100)\n",
    "# batch size = at a time it takes 10 rows \n",
    "# epochs = alogrithm run across the network"
   ]
  },
  {
   "cell_type": "code",
   "execution_count": 102,
   "metadata": {
    "id": "ZfZWyf44xcWT"
   },
   "outputs": [
    {
     "name": "stdout",
     "output_type": "stream",
     "text": [
      "63/63 [==============================] - 0s 3ms/step\n"
     ]
    }
   ],
   "source": [
    "y_pred = classifier.predict(X_test)\n",
    "y_pred = (y_pred > 0.5)"
   ]
  },
  {
   "cell_type": "code",
   "execution_count": 103,
   "metadata": {
    "id": "i_1lbJwAxedd"
   },
   "outputs": [
    {
     "name": "stdout",
     "output_type": "stream",
     "text": [
      "[[1523   72]\n",
      " [ 213  192]]\n"
     ]
    },
    {
     "data": {
      "text/plain": [
       "0.8575"
      ]
     },
     "execution_count": 103,
     "metadata": {},
     "output_type": "execute_result"
    }
   ],
   "source": [
    "from sklearn.metrics import confusion_matrix, accuracy_score\n",
    "cm = confusion_matrix(y_test, y_pred)\n",
    "print(cm)\n",
    "accuracy_score(y_test,y_pred)"
   ]
  },
  {
   "cell_type": "code",
   "execution_count": 104,
   "metadata": {},
   "outputs": [],
   "source": [
    "classifier.save('ann_model.h5')"
   ]
  },
  {
   "cell_type": "code",
   "execution_count": null,
   "metadata": {},
   "outputs": [],
   "source": []
  },
  {
   "cell_type": "code",
   "execution_count": null,
   "metadata": {},
   "outputs": [],
   "source": []
  },
  {
   "cell_type": "code",
   "execution_count": null,
   "metadata": {},
   "outputs": [],
   "source": []
  },
  {
   "cell_type": "code",
   "execution_count": null,
   "metadata": {},
   "outputs": [],
   "source": []
  },
  {
   "cell_type": "code",
   "execution_count": null,
   "metadata": {},
   "outputs": [],
   "source": []
  }
 ],
 "metadata": {
  "colab": {
   "collapsed_sections": [],
   "name": "ANN_Codes",
   "provenance": []
  },
  "kernelspec": {
   "display_name": "Python 3 (ipykernel)",
   "language": "python",
   "name": "python3"
  },
  "language_info": {
   "codemirror_mode": {
    "name": "ipython",
    "version": 3
   },
   "file_extension": ".py",
   "mimetype": "text/x-python",
   "name": "python",
   "nbconvert_exporter": "python",
   "pygments_lexer": "ipython3",
   "version": "3.10.6"
  }
 },
 "nbformat": 4,
 "nbformat_minor": 4
}
