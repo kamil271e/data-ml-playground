{
 "cells": [
  {
   "cell_type": "markdown",
   "id": "980cda5f-044d-4347-a758-21f2440ec706",
   "metadata": {
    "tags": []
   },
   "source": [
    "# Preprocessing"
   ]
  },
  {
   "cell_type": "code",
   "execution_count": 9,
   "id": "d2414d50-0ca2-4402-9e58-371bdd32b8d6",
   "metadata": {},
   "outputs": [],
   "source": [
    "# cat vs dogs microsoft dataset\n",
    "import os\n",
    "import cv2\n",
    "import numpy as np\n",
    "from tqdm import tqdm # used for creating Progress Meters or Progress Bars\n",
    "import matplotlib.pyplot as plt\n",
    "\n",
    "REBUILD_DATA = False # set to True if want to preprocess the data\n",
    "\n",
    "class DogsVSCats():\n",
    "    IMG_SIZE = 50 # 50x50\n",
    "    CATS = \"../tensorflow/datasets/PetImages/Cat\"\n",
    "    DOGS = \"../tensorflow/datasets/PetImages/Dog\"\n",
    "    LABELS = {CATS:0, DOGS:1} # one hot vector is usually better\n",
    "    training_data = []\n",
    "    catcount = 0\n",
    "    dogcount = 0\n",
    "    \n",
    "    def make_training_data(self):\n",
    "        for label in self.LABELS: # iterating over dirs\n",
    "            print(label)\n",
    "            for f in tqdm(os.listdir(label)): # iterating over files\n",
    "                try:\n",
    "                    path = os.path.join(label, f)\n",
    "                    # colors add channels - mostly data we don't need\n",
    "                    # in nn we want data to be as simple as possible\n",
    "                    img = cv2.imread(path, cv2.IMREAD_GRAYSCALE)\n",
    "                    img = cv2.resize(img, (self.IMG_SIZE, self.IMG_SIZE))\n",
    "                    # np.eye() # -> one-hot-vector                    \n",
    "                    self.training_data.append([np.array(img), np.eye(2)[self.LABELS[label]]])\n",
    "                \n",
    "                    if label == self.CATS: self.catcount += 1\n",
    "                    elif label == self.DOGS: self.dogcount += 1\n",
    "                \n",
    "                except Exception as e:\n",
    "                    #print(str(e))\n",
    "                    pass\n",
    "                \n",
    "        np.random.shuffle(self.training_data)\n",
    "        np.save('training_data.npy', self.training_data)\n",
    "        print('Cats:', self.catcount, '\\nDogs:', self.dogcount)\n",
    "                \n",
    "if REBUILD_DATA:\n",
    "    dogsvcats = DogsVSCats()\n",
    "    dogsvcats.make_training_data()\n",
    "            "
   ]
  },
  {
   "cell_type": "code",
   "execution_count": 10,
   "id": "9696f055-11b0-4c10-82a8-29f340fbe4ad",
   "metadata": {},
   "outputs": [
    {
     "name": "stdout",
     "output_type": "stream",
     "text": [
      "[0. 1.]\n"
     ]
    },
    {
     "data": {
      "text/plain": [
       "array([array([[136,  69, 115, ..., 126, 120, 107],\n",
       "              [156,  82, 108, ..., 126, 113,  98],\n",
       "              [171,  90, 101, ..., 119, 106, 137],\n",
       "              ...,\n",
       "              [140, 139, 140, ...,  81,  80,  71],\n",
       "              [141, 139, 138, ...,  60,  87,  86],\n",
       "              [139, 140, 142, ...,  62,  69,  63]], dtype=uint8),\n",
       "       array([0., 1.])], dtype=object)"
      ]
     },
     "execution_count": 10,
     "metadata": {},
     "output_type": "execute_result"
    }
   ],
   "source": [
    "training_data = np.load('training_data.npy', allow_pickle=True)\n",
    "print(training_data[0][1]) # one-hot-vector\n",
    "training_data[0]"
   ]
  },
  {
   "cell_type": "code",
   "execution_count": 3,
   "id": "ac21806b-cd93-4664-b9d3-1ca04fb7f72e",
   "metadata": {},
   "outputs": [
    {
     "data": {
      "image/png": "[encoded data removed]",
      "text/plain": [
       "<Figure size 640x480 with 1 Axes>"
      ]
     },
     "metadata": {},
     "output_type": "display_data"
    }
   ],
   "source": [
    "plt.imshow(training_data[0][0], cmap=\"gray\")\n",
    "plt.show()"
   ]
  },
  {
   "cell_type": "markdown",
   "id": "278a57ad-944b-4389-894a-dd5a4b418c60",
   "metadata": {},
   "source": [
    "# Building neural network"
   ]
  },
  {
   "cell_type": "code",
   "execution_count": 2,
   "id": "e3217a20-2abe-42f2-8f91-8d6cc3e242bc",
   "metadata": {},
   "outputs": [],
   "source": [
    "import torch\n",
    "from torch import nn\n",
    "from torch.optim import Adam\n",
    "from torchsummary import summary"
   ]
  },
  {
   "cell_type": "code",
   "execution_count": 29,
   "id": "f9c1e900-d373-4a4c-a341-24fcc969426b",
   "metadata": {},
   "outputs": [],
   "source": [
    "class ImgClassifier(nn.Module):\n",
    "    def __init__(self):\n",
    "        super().__init__()\n",
    "        self.model = nn.Sequential(\n",
    "            nn.Conv2d(1, 32, (3,3)), # 5x5 in tutorial\n",
    "            nn.ReLU(),\n",
    "            nn.MaxPool2d(2,2),\n",
    "            nn.Conv2d(32, 64, (3,3)),\n",
    "            nn.ReLU(),\n",
    "            nn.MaxPool2d(2,2),\n",
    "            nn.Conv2d(64, 64, (3,3)),\n",
    "            nn.ReLU(),\n",
    "            nn.Flatten(),\n",
    "            nn.Linear(64*9*9, 512),\n",
    "            nn.ReLU(),\n",
    "            nn.Linear(512,2)\n",
    "        )\n",
    "        \n",
    "    def forward(self, x):\n",
    "        # F softmax?\n",
    "        return self.model(x)\n",
    "    \n",
    "    # (50 - 3)/1 + 1 = 48 # conv1\n",
    "    # (48 - 2)/2 + 1 = 24  # pool\n",
    "    # (24 - 3)/1 + 1 = 22 # conv2\n",
    "    # (22 - 2)/2 + 1 = 11 # pool\n",
    "    # (11 - 3)/1 + 1 = 9 # conv3\n",
    "# "
   ]
  },
  {
   "cell_type": "code",
   "execution_count": 23,
   "id": "54c3106a-7fa2-4d48-af76-7043107b0498",
   "metadata": {},
   "outputs": [],
   "source": [
    "clf = ImgClassifier()\n",
    "opt = Adam(clf.parameters(), lr=1e-3)\n",
    "loss_fn = nn.CrossEntropyLoss()\n",
    "# loss_fn = nn.MSELoss()\n",
    "\n",
    "# Training flow\n",
    "X = torch.Tensor([i[0] for i in training_data]).view(-1, 1, 50, 50)\n",
    "X = X/255.0\n",
    "y = torch.Tensor([i[1] for i in training_data])"
   ]
  },
  {
   "cell_type": "code",
   "execution_count": 24,
   "id": "42e3bb10-2842-4894-a2c7-1aa4876131d3",
   "metadata": {},
   "outputs": [
    {
     "data": {
      "text/plain": [
       "torch.Size([24946, 1, 50, 50])"
      ]
     },
     "execution_count": 24,
     "metadata": {},
     "output_type": "execute_result"
    }
   ],
   "source": [
    "X.shape"
   ]
  },
  {
   "cell_type": "markdown",
   "id": "1b21943f-8a54-4b53-9310-8067ee981e73",
   "metadata": {},
   "source": [
    "### Calculating the input of linear layer after convolutions"
   ]
  },
  {
   "cell_type": "code",
   "execution_count": 22,
   "id": "e8175d83-45b8-4192-b6f7-756743667bfd",
   "metadata": {},
   "outputs": [
    {
     "name": "stdout",
     "output_type": "stream",
     "text": [
      "torch.Size([5, 1, 50, 50])\n",
      "torch.Size([5, 32, 48, 48])\n",
      "torch.Size([5, 32, 24, 24])\n",
      "torch.Size([5, 64, 22, 22])\n",
      "torch.Size([5, 64, 11, 11])\n",
      "torch.Size([5, 64, 9, 9])\n"
     ]
    }
   ],
   "source": [
    "x = X[:5]\n",
    "c1 = nn.Conv2d(1,32,(3,3))\n",
    "p1 = nn.MaxPool2d(2,2)\n",
    "c2 = nn.Conv2d(32,64,(3,3))\n",
    "p2 = nn.MaxPool2d(2,2)\n",
    "c3 = nn.Conv2d(64, 64, (3,3))\n",
    "print(x.shape)\n",
    "x = c1(x)\n",
    "print(x.shape)\n",
    "x = p1(x)\n",
    "print(x.shape)\n",
    "x = c2(x)\n",
    "print(x.shape)\n",
    "x = p2(x)\n",
    "print(x.shape)\n",
    "x = c3(x)\n",
    "print(x.shape)\n",
    "# (50 - 3)/1 + 1 = 48 # conv1\n",
    "# (48 - 2)/2 + 1 = 24  # pool\n",
    "# (24 - 3)/1 + 1 = 22 # conv2\n",
    "# (22 - 2)/2 + 1 = 11 # pool\n",
    "# (11 - 3)/1 + 1 = 9 # conv3"
   ]
  },
  {
   "cell_type": "code",
   "execution_count": 25,
   "id": "a1c1c0be-3b1c-4501-940b-20c6a76b4bfa",
   "metadata": {},
   "outputs": [
    {
     "name": "stdout",
     "output_type": "stream",
     "text": [
      "2494\n"
     ]
    },
    {
     "data": {
      "text/plain": [
       "(22452, 2494)"
      ]
     },
     "execution_count": 25,
     "metadata": {},
     "output_type": "execute_result"
    }
   ],
   "source": [
    "VAL_PCT = 0.1\n",
    "val_size = int(len(X)*VAL_PCT)\n",
    "print(val_size)\n",
    "\n",
    "X_train, y_train = X[:-val_size], y[:-val_size] \n",
    "X_test, y_test = X[-val_size:], y[-val_size:]\n",
    "len(X_train), len(X_test)"
   ]
  },
  {
   "cell_type": "code",
   "execution_count": 30,
   "id": "120885eb-6cb6-4bdb-8ef3-914ba8da027a",
   "metadata": {},
   "outputs": [
    {
     "name": "stderr",
     "output_type": "stream",
     "text": [
      "100%|█████████████████████████████████████████████████████████████████████████████| 225/225 [00:57<00:00,  3.88it/s]\n",
      "100%|█████████████████████████████████████████████████████████████████████████████| 225/225 [00:57<00:00,  3.88it/s]\n",
      "100%|█████████████████████████████████████████████████████████████████████████████| 225/225 [00:58<00:00,  3.87it/s]"
     ]
    },
    {
     "name": "stdout",
     "output_type": "stream",
     "text": [
      "tensor(0.3669, grad_fn=<DivBackward1>)\n",
      "----------------------------------------------------------------\n",
      "        Layer (type)               Output Shape         Param #\n",
      "================================================================\n",
      "            Conv2d-1           [-1, 32, 48, 48]             320\n",
      "              ReLU-2           [-1, 32, 48, 48]               0\n",
      "         MaxPool2d-3           [-1, 32, 24, 24]               0\n",
      "            Conv2d-4           [-1, 64, 22, 22]          18,496\n",
      "              ReLU-5           [-1, 64, 22, 22]               0\n",
      "         MaxPool2d-6           [-1, 64, 11, 11]               0\n",
      "            Conv2d-7             [-1, 64, 9, 9]          36,928\n",
      "              ReLU-8             [-1, 64, 9, 9]               0\n",
      "           Flatten-9                 [-1, 5184]               0\n",
      "           Linear-10                  [-1, 512]       2,654,720\n",
      "             ReLU-11                  [-1, 512]               0\n",
      "           Linear-12                    [-1, 2]           1,026\n",
      "================================================================\n",
      "Total params: 2,711,490\n",
      "Trainable params: 2,711,490\n",
      "Non-trainable params: 0\n",
      "----------------------------------------------------------------\n",
      "Input size (MB): 0.01\n",
      "Forward/backward pass size (MB): 1.92\n",
      "Params size (MB): 10.34\n",
      "Estimated Total Size (MB): 12.28\n",
      "----------------------------------------------------------------\n"
     ]
    },
    {
     "name": "stderr",
     "output_type": "stream",
     "text": [
      "\n"
     ]
    }
   ],
   "source": [
    "BATCH_SIZE = 100 \n",
    "EPOCHS = 3\n",
    "\n",
    "training = True\n",
    "\n",
    "if training:\n",
    "    for epoch in range(EPOCHS):\n",
    "        for i in tqdm(range(0, len(X_train), BATCH_SIZE)):\n",
    "            X_batch = X_train[i:i+BATCH_SIZE].view(-1,1,50,50)\n",
    "            y_batch = y_train[i:i+BATCH_SIZE]\n",
    "            clf.zero_grad()\n",
    "            output = clf(X_batch) #yhat\n",
    "            loss = loss_fn(output, y_batch)\n",
    "            loss.backward()\n",
    "            opt.step()\n",
    "\n",
    "    print(loss)\n",
    "\n",
    "summary(clf, X_test[0].shape)"
   ]
  },
  {
   "cell_type": "code",
   "execution_count": 11,
   "id": "268eb52a-3778-4d21-94c0-2e469dd5b89e",
   "metadata": {},
   "outputs": [],
   "source": [
    "with open('model_state.pt', 'wb') as f:\n",
    "    torch.save(clf.state_dict(),f)"
   ]
  },
  {
   "cell_type": "code",
   "execution_count": 24,
   "id": "b9cb4839-efe5-4e31-b8bb-8788bd485de7",
   "metadata": {},
   "outputs": [],
   "source": [
    "# model = torch.load('model_state.pt', pickle_module=True)"
   ]
  },
  {
   "cell_type": "code",
   "execution_count": 31,
   "id": "7f770a15-6a56-41e9-91e1-217c4de50d3e",
   "metadata": {},
   "outputs": [
    {
     "name": "stderr",
     "output_type": "stream",
     "text": [
      "100%|██████████████████████████████████████████████████████████████████████████| 2494/2494 [00:05<00:00, 417.93it/s]\n"
     ]
    },
    {
     "data": {
      "text/plain": [
       "0.785485164394547"
      ]
     },
     "execution_count": 31,
     "metadata": {},
     "output_type": "execute_result"
    }
   ],
   "source": [
    "correct = 0\n",
    "total = 0\n",
    "\n",
    "with torch.no_grad():\n",
    "    for i in tqdm(range(0,len(X_test))):\n",
    "        real = torch.argmax(y_test[i])\n",
    "        out = clf(X_test[i].view(-1,1,50,50))[0] # out dla kazdego testu taki sam...\n",
    "        pred = torch.argmax(out)\n",
    "        if pred == real: correct+=1\n",
    "        total += 1\n",
    "        #print(out)\n",
    "\n",
    "correct / total"
   ]
  }
 ],
 "metadata": {
  "kernelspec": {
   "display_name": "Python 3 (ipykernel)",
   "language": "python",
   "name": "python3"
  },
  "language_info": {
   "codemirror_mode": {
    "name": "ipython",
    "version": 3
   },
   "file_extension": ".py",
   "mimetype": "text/x-python",
   "name": "python",
   "nbconvert_exporter": "python",
   "pygments_lexer": "ipython3",
   "version": "3.10.6"
  }
 },
 "nbformat": 4,
 "nbformat_minor": 5
}
