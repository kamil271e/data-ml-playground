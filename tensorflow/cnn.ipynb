{
 "cells": [
  {
   "cell_type": "code",
   "execution_count": 35,
   "id": "cc43344c-4d34-4757-ae9b-005afa9f5d95",
   "metadata": {},
   "outputs": [],
   "source": [
    "import numpy as np\n",
    "from tqdm import tqdm\n",
    "from matplotlib import pyplot as plt\n",
    "import os \n",
    "import cv2\n",
    "\n",
    "LOAD = True\n",
    "REBUILD = False\n",
    "DATADIR = 'datasets/PetImages'\n",
    "CATEGORIES = ['Dog', 'Cat']\n",
    "\n",
    "class DogsVSCats():\n",
    "    IMG_SIZE = 50 \n",
    "    CATS = f\"{DATADIR}/Cat\"\n",
    "    DOGS = f\"{DATADIR}/Dog\"\n",
    "    LABELS = {CATS:0, DOGS:1} # one hot vector\n",
    "    training_data = []\n",
    "    catcount = 0\n",
    "    dogcount = 0\n",
    "    \n",
    "    def make_training_data(self):\n",
    "        for label in self.LABELS:\n",
    "            for f in tqdm(os.listdir(label)):\n",
    "                try:\n",
    "                    path = os.path.join(label, f)\n",
    "                    img = cv2.imread(path, cv2.IMREAD_GRAYSCALE)\n",
    "                    img = cv2.resize(img, (self.IMG_SIZE, self.IMG_SIZE))\n",
    "                    #self.training_data.append([np.array(img), np.eye(2)[self.LABELS[label]]])\n",
    "                    self.training_data.append([np.array(img), self.LABELS[label]])\n",
    "                \n",
    "                    if label == self.CATS: self.catcount += 1\n",
    "                    elif label == self.DOGS: self.dogcount += 1\n",
    "                \n",
    "                except Exception as e:\n",
    "                    pass\n",
    "                \n",
    "        np.random.shuffle(self.training_data)\n",
    "        np.save('training_data.npy', self.training_data)\n",
    "        print('Cats:', self.catcount, '\\nDogs:', self.dogcount)\n",
    "                \n",
    "if REBUILD:\n",
    "    dogsvcats = DogsVSCats()\n",
    "    dogsvcats.make_training_data()\n",
    "\n",
    "if LOAD:\n",
    "    training_data = np.load('training_data.npy', allow_pickle=True)"
   ]
  },
  {
   "cell_type": "code",
   "execution_count": 39,
   "id": "9b4e6503-2bed-4cc6-958f-7ea4e41e1741",
   "metadata": {},
   "outputs": [],
   "source": [
    "from sklearn.model_selection import train_test_split\n",
    "X = [el[0] for el in training_data]\n",
    "y = [el[1] for el in training_data]\n",
    "X_train, X_test, y_train, y_test = train_test_split(X, y, test_size=0.1, random_state=21, stratify=y)\n",
    "X_train = np.array(X_train)\n",
    "X_test = np.array(X_test)\n",
    "y_train = np.array(y_train)\n",
    "y_test = np.array(y_test)\n",
    "\n",
    "\n",
    "X_train = X_train.reshape(X_train.shape[0], X_train.shape[1], X_train.shape[2], 1)\n",
    "X_test = X_test.reshape((X_test.shape[0],X_test.shape[1],X_test.shape[2],1)) \n",
    "\n",
    "X_train = X_train / 255\n",
    "X_test = X_test / 255"
   ]
  },
  {
   "cell_type": "code",
   "execution_count": null,
   "id": "58811790-4298-43c6-b32b-c025abc68743",
   "metadata": {},
   "outputs": [],
   "source": [
    "import pickle\n",
    "\n",
    "pickle_out = open(\"pickles/x.pickle\", \"wb\")\n",
    "pickle.dump(X, pickle_out)\n",
    "pickle_out.close()\n",
    "\n",
    "pickle_out = open(\"pickles/y.pickle\", \"wb\")\n",
    "pickle.dump(y, pickle_out)\n",
    "pickle_out.close()\n",
    "pickle_in = open(\"pickles/x.pickle\",\"rb\")\n",
    "x = pickle.load(pickle_in)"
   ]
  },
  {
   "cell_type": "code",
   "execution_count": 40,
   "id": "515c4034-32e1-418c-84dd-a01a6d03d478",
   "metadata": {},
   "outputs": [],
   "source": [
    "import tensorflow as tf\n",
    "import numpy as np\n",
    "from tensorflow.keras.models import Sequential\n",
    "from tensorflow.keras.layers import Dense, Dropout, Activation, Flatten, Conv2D, MaxPool2D\n",
    "\n",
    "model = Sequential([\n",
    "    Conv2D(64,(3,3),activation='relu',input_shape=X_train.shape[1:]),\n",
    "    MaxPool2D(2,2),\n",
    "    Conv2D(64,(3,3),activation='relu'),\n",
    "    MaxPool2D(2,2),\n",
    "    Flatten(),\n",
    "    Dense(64,activation='relu'),\n",
    "    Dense(2,activation='softmax')\n",
    "])\n",
    "model.compile(loss='sparse_categorical_crossentropy',optimizer='adam',metrics=['accuracy'])"
   ]
  },
  {
   "cell_type": "code",
   "execution_count": 41,
   "id": "a136ee9a-8c8f-4e4b-95fd-edf16ce5db10",
   "metadata": {},
   "outputs": [
    {
     "name": "stdout",
     "output_type": "stream",
     "text": [
      "Epoch 1/10\n",
      "702/702 [==============================] - 67s 95ms/step - loss: 0.6234 - accuracy: 0.6430\n",
      "Epoch 2/10\n",
      "702/702 [==============================] - 67s 95ms/step - loss: 0.5161 - accuracy: 0.7447\n",
      "Epoch 3/10\n",
      "702/702 [==============================] - 73s 104ms/step - loss: 0.4724 - accuracy: 0.7767\n",
      "Epoch 4/10\n",
      "702/702 [==============================] - 69s 99ms/step - loss: 0.4362 - accuracy: 0.7973\n",
      "Epoch 5/10\n",
      "702/702 [==============================] - 71s 101ms/step - loss: 0.3994 - accuracy: 0.8176\n",
      "Epoch 6/10\n",
      "702/702 [==============================] - 65s 92ms/step - loss: 0.3642 - accuracy: 0.8369\n",
      "Epoch 7/10\n",
      "702/702 [==============================] - 65s 92ms/step - loss: 0.3289 - accuracy: 0.8562\n",
      "Epoch 8/10\n",
      "702/702 [==============================] - 65s 92ms/step - loss: 0.2871 - accuracy: 0.8775\n",
      "Epoch 9/10\n",
      "702/702 [==============================] - 68s 96ms/step - loss: 0.2470 - accuracy: 0.8970\n",
      "Epoch 10/10\n",
      "702/702 [==============================] - 68s 97ms/step - loss: 0.2008 - accuracy: 0.9192\n"
     ]
    },
    {
     "data": {
      "text/plain": [
       "<keras.callbacks.History at 0x7faf808f4df0>"
      ]
     },
     "execution_count": 41,
     "metadata": {},
     "output_type": "execute_result"
    }
   ],
   "source": [
    "model.fit(X_train,y_train,epochs=10)"
   ]
  },
  {
   "cell_type": "code",
   "execution_count": 43,
   "id": "632fd56c-9538-436d-af3d-6290d101d055",
   "metadata": {},
   "outputs": [
    {
     "name": "stderr",
     "output_type": "stream",
     "text": [
      "WARNING:absl:Found untraced functions such as _jit_compiled_convolution_op, _jit_compiled_convolution_op while saving (showing 2 of 2). These functions will not be directly callable after loading.\n"
     ]
    },
    {
     "name": "stdout",
     "output_type": "stream",
     "text": [
      "INFO:tensorflow:Assets written to: cnn_model/assets\n"
     ]
    },
    {
     "name": "stderr",
     "output_type": "stream",
     "text": [
      "INFO:tensorflow:Assets written to: cnn_model/assets\n"
     ]
    }
   ],
   "source": [
    "model.save('cnn_model')\n",
    "# new_model = load('cnn_model')"
   ]
  },
  {
   "cell_type": "code",
   "execution_count": 44,
   "id": "edf51eae-9104-4be7-8f0a-c244bac46d71",
   "metadata": {},
   "outputs": [
    {
     "name": "stdout",
     "output_type": "stream",
     "text": [
      "Model: \"sequential_3\"\n",
      "_________________________________________________________________\n",
      " Layer (type)                Output Shape              Param #   \n",
      "=================================================================\n",
      " conv2d_7 (Conv2D)           (None, 48, 48, 64)        640       \n",
      "                                                                 \n",
      " max_pooling2d_6 (MaxPooling  (None, 24, 24, 64)       0         \n",
      " 2D)                                                             \n",
      "                                                                 \n",
      " conv2d_8 (Conv2D)           (None, 22, 22, 64)        36928     \n",
      "                                                                 \n",
      " max_pooling2d_7 (MaxPooling  (None, 11, 11, 64)       0         \n",
      " 2D)                                                             \n",
      "                                                                 \n",
      " flatten_3 (Flatten)         (None, 7744)              0         \n",
      "                                                                 \n",
      " dense_6 (Dense)             (None, 64)                495680    \n",
      "                                                                 \n",
      " dense_7 (Dense)             (None, 2)                 130       \n",
      "                                                                 \n",
      "=================================================================\n",
      "Total params: 533,378\n",
      "Trainable params: 533,378\n",
      "Non-trainable params: 0\n",
      "_________________________________________________________________\n"
     ]
    }
   ],
   "source": [
    "model.summary()"
   ]
  },
  {
   "cell_type": "code",
   "execution_count": 55,
   "id": "daefcac2-b0f2-465e-9922-7fe774f88e1c",
   "metadata": {},
   "outputs": [
    {
     "name": "stdout",
     "output_type": "stream",
     "text": [
      "78/78 [==============================] - 2s 26ms/step - loss: 0.4971 - accuracy: 0.7984\n",
      "78/78 [==============================] - 2s 24ms/step\n"
     ]
    }
   ],
   "source": [
    "model.evaluate(X_test,y_test)\n",
    "pred = model.predict([X_test])"
   ]
  },
  {
   "cell_type": "code",
   "execution_count": 69,
   "id": "50db67d2-eb95-4db4-aebd-117257b01820",
   "metadata": {},
   "outputs": [
    {
     "name": "stdout",
     "output_type": "stream",
     "text": [
      "I guess it's a Cat...\n"
     ]
    },
    {
     "data": {
      "image/png": "[encoded data removed]",
      "text/plain": [
       "<Figure size 640x480 with 1 Axes>"
      ]
     },
     "metadata": {},
     "output_type": "display_data"
    }
   ],
   "source": [
    "import random\n",
    "\n",
    "i = random.randint(0,len(pred)-1)\n",
    "if np.argmax(pred[i]) == 1:\n",
    "    print(\"I quess it's a Dog...\")\n",
    "else:\n",
    "    print(\"I guess it's a Cat...\")\n",
    "    \n",
    "plt.imshow(X[i])\n",
    "plt.show()"
   ]
  },
  {
   "cell_type": "code",
   "execution_count": null,
   "id": "c40a02c9-082a-4fb9-9c07-d07b649c3b2b",
   "metadata": {},
   "outputs": [],
   "source": []
  }
 ],
 "metadata": {
  "kernelspec": {
   "display_name": "Python 3 (ipykernel)",
   "language": "python",
   "name": "python3"
  },
  "language_info": {
   "codemirror_mode": {
    "name": "ipython",
    "version": 3
   },
   "file_extension": ".py",
   "mimetype": "text/x-python",
   "name": "python",
   "nbconvert_exporter": "python",
   "pygments_lexer": "ipython3",
   "version": "3.10.6"
  }
 },
 "nbformat": 4,
 "nbformat_minor": 5
}
