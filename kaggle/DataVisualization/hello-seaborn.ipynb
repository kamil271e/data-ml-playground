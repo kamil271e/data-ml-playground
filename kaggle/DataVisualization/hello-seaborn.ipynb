{
 "cells": [
  {
   "cell_type": "markdown",
   "id": "b1e403b8",
   "metadata": {},
   "source": [
    "# FIFA (lineplot)"
   ]
  },
  {
   "cell_type": "code",
   "execution_count": null,
   "id": "5242ea9a",
   "metadata": {},
   "outputs": [],
   "source": [
    "import pandas as pd\n",
    "import matplotlib.pyplot as plt\n",
    "import seaborn as sns\n",
    "import os \n",
    "import numpy as np\n",
    "\n",
    "pd.plotting.register_matplotlib_converters()\n",
    "%matplotlib inline\n",
    "plt.style.use('ggplot')\n",
    "if not os.path.exists('data/fifa.csv'):\n",
    "    os.symlink('data/data-for-vis/fifa.csv','data/fifa.csv') # creates symbolic link, pointing to first argument\n",
    "print(\"Setup\")"
   ]
  },
  {
   "cell_type": "markdown",
   "id": "7b340a44",
   "metadata": {},
   "source": [
    "`pd.plotting.register_matplotlib_converters()` <br>\n",
    "This function modifies the global matplotlib.units.registry dictionary. pandas adds custom converters for:\n",
    "- pd.Timestamp\n",
    "- pd.Period\n",
    "- np.datetime64\n",
    "- datetime.datetime\n",
    "- datetime.date\n",
    "- datetime.time\n",
    "\n",
    "`%matplotlib inline` <br>\n",
    "Provided you are running IPython, the %matplotlib inline will make your plot outputs appear and be stored within the notebook. \"Magic function\". Weird coz I've never used it before and it worked fine all the time."
   ]
  },
  {
   "cell_type": "code",
   "execution_count": null,
   "id": "0903b380",
   "metadata": {},
   "outputs": [],
   "source": [
    "fifa_path = \"data/fifa.csv\"\n",
    "fifa_data = pd.read_csv(fifa_path, index_col=\"Date\", parse_dates=True)\n",
    "fifa_data"
   ]
  },
  {
   "cell_type": "code",
   "execution_count": null,
   "id": "2b05d186",
   "metadata": {},
   "outputs": [],
   "source": [
    "plt.figure(figsize=(16,6))\n",
    "sns.lineplot(data=fifa_data)"
   ]
  },
  {
   "cell_type": "markdown",
   "id": "4f9c2606",
   "metadata": {},
   "source": [
    "# SPOTIFY (lineplot)"
   ]
  },
  {
   "cell_type": "code",
   "execution_count": null,
   "id": "20f331c4",
   "metadata": {},
   "outputs": [],
   "source": [
    "spotify_path = 'data/spotify.csv'\n",
    "spotify_data = pd.read_csv(spotify_path, index_col='Date', parse_dates=True)\n",
    "spotify_data\n",
    "# sd.head() # sd.tail()"
   ]
  },
  {
   "cell_type": "code",
   "execution_count": null,
   "id": "b8cc915c",
   "metadata": {},
   "outputs": [],
   "source": [
    "plt.figure(figsize=(14,6))\n",
    "plt.title(\"Daily global streams of popular songs in 2017-2018\")\n",
    "sns.lineplot(data=spotify_data)"
   ]
  },
  {
   "cell_type": "code",
   "execution_count": null,
   "id": "793267aa",
   "metadata": {},
   "outputs": [],
   "source": [
    "#list(spotify_data.columns)\n",
    "plt.figure(figsize=(14,6))\n",
    "plt.title(\"2 song comparison\")\n",
    "sns.lineplot(data=spotify_data['HUMBLE.'], label=\"HUMBLE.\")\n",
    "sns.lineplot(data=spotify_data['Despacito'], label=\"Irrelevant trash song\")\n",
    "plt.xlabel(\"Date\")\n",
    "plt.ylabel(\"\")\n",
    "plt.show()"
   ]
  },
  {
   "cell_type": "markdown",
   "id": "c2884d8e",
   "metadata": {},
   "source": [
    "# MUSEUM (lineplot)"
   ]
  },
  {
   "cell_type": "code",
   "execution_count": null,
   "id": "c9806fa7",
   "metadata": {},
   "outputs": [],
   "source": [
    "museum_path = 'data/museum_visitors.csv'\n",
    "museum_data = pd.read_csv(museum_path, index_col='Date', parse_dates=True)\n",
    "museum_data.tail()"
   ]
  },
  {
   "cell_type": "code",
   "execution_count": null,
   "id": "e60c24d7",
   "metadata": {},
   "outputs": [],
   "source": [
    "plt.figure(figsize=(12,6))\n",
    "sns.lineplot(data=museum_data)"
   ]
  },
  {
   "cell_type": "code",
   "execution_count": null,
   "id": "27ed2f4a",
   "metadata": {},
   "outputs": [],
   "source": [
    "ca_museum_jul18 = museum_data['Chinese American Museum'] #.value_counts()\n",
    "# first date - 01.01.2014\n",
    "# we want 01.07.2018\n",
    "# month diff = 12*4 + 7 = 55\n",
    "# index = 55-1=54\n",
    "ca_museum_jul18[54]"
   ]
  },
  {
   "cell_type": "code",
   "execution_count": null,
   "id": "cb0bd822",
   "metadata": {},
   "outputs": [],
   "source": [
    "ca_museum_jul18.index[0].date()"
   ]
  },
  {
   "cell_type": "markdown",
   "id": "0fc05afe",
   "metadata": {},
   "source": [
    "# FLIGHTS (barplot, heatmap)"
   ]
  },
  {
   "cell_type": "code",
   "execution_count": null,
   "id": "e4154b81",
   "metadata": {},
   "outputs": [],
   "source": [
    "flight_path = 'data/flight_delays.csv'\n",
    "flight_data = pd.read_csv(flight_path, index_col='Month')\n",
    "flight_data"
   ]
  },
  {
   "cell_type": "code",
   "execution_count": null,
   "id": "750aaae0",
   "metadata": {},
   "outputs": [],
   "source": [
    "plt.figure(figsize=(10,6))\n",
    "plt.title(\"Average Arrival Delay for Spirit Airlines Flights, by Month\")\n",
    "sns.barplot(x=flight_data.index, y=flight_data['NK'])\n",
    "plt.ylabel(\"Arrival delay (in minutes)\")"
   ]
  },
  {
   "cell_type": "code",
   "execution_count": null,
   "id": "525a600f",
   "metadata": {
    "scrolled": false
   },
   "outputs": [],
   "source": [
    "plt.figure(figsize=(14,7))\n",
    "plt.title(\"Average Arrival Delay for Each Airline, by Month\")\n",
    "sns.heatmap(data=flight_data, annot=True)\n",
    "plt.xlabel(\"Airline\")"
   ]
  },
  {
   "cell_type": "markdown",
   "id": "86c7e957",
   "metadata": {},
   "source": [
    "# IGN_GAME (barplot, heatmap)\n",
    "\n",
    "`iloc` function has access to specified row of data frame."
   ]
  },
  {
   "cell_type": "code",
   "execution_count": null,
   "id": "5577c8e8",
   "metadata": {
    "scrolled": true
   },
   "outputs": [],
   "source": [
    "ign_path = 'data/ign_scores.csv'\n",
    "ign_data = pd.read_csv(ign_path, index_col='Platform')\n",
    "ign_data"
   ]
  },
  {
   "cell_type": "code",
   "execution_count": null,
   "id": "122483c7",
   "metadata": {},
   "outputs": [],
   "source": [
    "ign_data_t = ign_data.transpose()\n",
    "pd.set_option(\"display.max_columns\", None)\n",
    "ign_data_t"
   ]
  },
  {
   "cell_type": "code",
   "execution_count": null,
   "id": "55c2632d",
   "metadata": {},
   "outputs": [],
   "source": [
    "plt.figure(figsize=(18,8))\n",
    "sns.barplot(data=ign_data)"
   ]
  },
  {
   "cell_type": "code",
   "execution_count": null,
   "id": "ec21d76e",
   "metadata": {},
   "outputs": [],
   "source": [
    "plt.figure(figsize=(20,12))\n",
    "sns.barplot(data=ign_data_t, orient='h')\n",
    "#sns.barplot(x=ign_data_t, y=ign_data_t.index)"
   ]
  },
  {
   "cell_type": "code",
   "execution_count": null,
   "id": "cd298f79",
   "metadata": {},
   "outputs": [],
   "source": [
    "worst = 1000000\n",
    "best = -1\n",
    "worst_genre = ''\n",
    "best_genre = ''\n",
    "\n",
    "for i in range(len(ign_data_t)):\n",
    "    curr_score = sum(ign_data_t.iloc[i]) / len(ign_data_t.iloc[i])\n",
    "    if curr_score < worst:\n",
    "        worst = curr_score\n",
    "        worst_genre = ign_data_t.index[i]\n",
    "    if curr_score > best:\n",
    "        best = curr_score\n",
    "        best_genre = ign_data_t.index[i]\n",
    "\n",
    "print('Best genre: {}, score: {}\\nWorst genre: {}, score: {}'.format(best_genre,best,worst_genre, worst))"
   ]
  },
  {
   "cell_type": "code",
   "execution_count": null,
   "id": "5d9ceb29",
   "metadata": {},
   "outputs": [],
   "source": [
    "worst = 1000000\n",
    "best = -1\n",
    "worst_platform = ''\n",
    "best_platform = ''\n",
    "\n",
    "for i in range(len(ign_data)):\n",
    "    curr_score = sum(ign_data.iloc[i]) / len(ign_data.iloc[i])\n",
    "    if curr_score < worst:\n",
    "        worst = curr_score\n",
    "        worst_platform = ign_data.index[i]\n",
    "    if curr_score > best:\n",
    "        best = curr_score\n",
    "        best_platform = ign_data.index[i]\n",
    "\n",
    "print('Best platform: {}, score: {}\\nWorst platform: {}, score: {}'.format(best_platform,best,worst_platform, worst))"
   ]
  },
  {
   "cell_type": "code",
   "execution_count": null,
   "id": "e4aae1bb",
   "metadata": {},
   "outputs": [],
   "source": [
    "# Avg score for pc\n",
    "indx = list(ign_data.index).index(\"PC\")\n",
    "score = sum(ign_data.iloc[indx]) / len(ign_data.iloc[indx])\n",
    "print(score)\n",
    "\n",
    "# Highest score for PC\n",
    "score = max(ign_data.iloc[indx])\n",
    "print(score)"
   ]
  },
  {
   "cell_type": "code",
   "execution_count": null,
   "id": "9954669a",
   "metadata": {},
   "outputs": [],
   "source": [
    "# Average for racing games\n",
    "plt.figure(figsize=(8,6))\n",
    "sns.barplot(x=ign_data['Racing'],y=ign_data.index)\n",
    "plt.title(\"Average Score for Racing Games by Platform\")"
   ]
  },
  {
   "cell_type": "code",
   "execution_count": null,
   "id": "df0927da",
   "metadata": {},
   "outputs": [],
   "source": [
    "plt.figure(figsize=(8,8))\n",
    "sns.heatmap(data=ign_data, annot=True, cmap='RdYlGn')"
   ]
  },
  {
   "cell_type": "markdown",
   "id": "65a8865b",
   "metadata": {},
   "source": [
    "# INSURANCE (scatterplot)"
   ]
  },
  {
   "cell_type": "code",
   "execution_count": null,
   "id": "16a7b454",
   "metadata": {},
   "outputs": [],
   "source": [
    "insurance_path = 'data/insurance.csv'\n",
    "insurance_data = pd.read_csv(insurance_path)\n",
    "insurance_data.head()"
   ]
  },
  {
   "cell_type": "code",
   "execution_count": null,
   "id": "9998dafc",
   "metadata": {},
   "outputs": [],
   "source": [
    "sns.scatterplot(x=insurance_data['bmi'], y=insurance_data['charges'])"
   ]
  },
  {
   "cell_type": "code",
   "execution_count": null,
   "id": "a829fc69",
   "metadata": {},
   "outputs": [],
   "source": [
    "sns.regplot(x=insurance_data['bmi'], y=insurance_data['charges'])"
   ]
  },
  {
   "cell_type": "code",
   "execution_count": null,
   "id": "ceb56fa6",
   "metadata": {},
   "outputs": [],
   "source": [
    "sns.scatterplot(x=insurance_data['bmi'], y=insurance_data['charges'], hue=insurance_data['smoker'])"
   ]
  },
  {
   "cell_type": "code",
   "execution_count": null,
   "id": "b6b3b0c5",
   "metadata": {},
   "outputs": [],
   "source": [
    "sns.lmplot(x='bmi', y='charges', hue='smoker', data=insurance_data)"
   ]
  },
  {
   "cell_type": "code",
   "execution_count": null,
   "id": "6fa13cab",
   "metadata": {},
   "outputs": [],
   "source": [
    "sns.swarmplot(x=insurance_data['smoker'], y=insurance_data['charges'], s=2) \n",
    "# s-> changing size of markers"
   ]
  },
  {
   "cell_type": "markdown",
   "id": "5258d511",
   "metadata": {},
   "source": [
    "# CANDY (scatterplot)"
   ]
  },
  {
   "cell_type": "code",
   "execution_count": null,
   "id": "d672436e",
   "metadata": {},
   "outputs": [],
   "source": [
    "candy_path = 'data/candy.csv'\n",
    "candy_data = pd.read_csv(candy_path, index_col='id')\n",
    "candy_data"
   ]
  },
  {
   "cell_type": "code",
   "execution_count": null,
   "id": "a90c4c2c",
   "metadata": {},
   "outputs": [],
   "source": [
    "# The most sugar\n",
    "i = candy_data['sugarpercent'].idxmax()\n",
    "print(\"The most sugar level: {}, competition name: {}\".format(candy_data.sugarpercent[i], candy_data['competitorname'][i]))"
   ]
  },
  {
   "cell_type": "code",
   "execution_count": null,
   "id": "057b5da6",
   "metadata": {},
   "outputs": [],
   "source": [
    "sns.scatterplot(x=candy_data['sugarpercent'],y=candy_data['winpercent'])"
   ]
  },
  {
   "cell_type": "code",
   "execution_count": null,
   "id": "5b1fa11c",
   "metadata": {},
   "outputs": [],
   "source": [
    "sns.regplot(x=candy_data['sugarpercent'],y=candy_data['winpercent'])"
   ]
  },
  {
   "cell_type": "code",
   "execution_count": null,
   "id": "b34164d3",
   "metadata": {},
   "outputs": [],
   "source": [
    "sns.scatterplot(x=candy_data['pricepercent'], y=candy_data['winpercent'], hue=candy_data['chocolate'])"
   ]
  },
  {
   "cell_type": "code",
   "execution_count": null,
   "id": "b5f5993c",
   "metadata": {},
   "outputs": [],
   "source": [
    "sns.lmplot(x='pricepercent', y='winpercent', hue='chocolate', data=candy_data)"
   ]
  },
  {
   "cell_type": "code",
   "execution_count": null,
   "id": "0d872556",
   "metadata": {},
   "outputs": [],
   "source": [
    "sns.swarmplot(x=candy_data['chocolate'],y=candy_data['winpercent'])\n",
    "# better plot than the one above."
   ]
  },
  {
   "cell_type": "markdown",
   "id": "4c74a7ef",
   "metadata": {},
   "source": [
    "# IRIS (histogram, kde)"
   ]
  },
  {
   "cell_type": "code",
   "execution_count": null,
   "id": "75d0221a",
   "metadata": {},
   "outputs": [],
   "source": [
    "iris_path = 'data/iris.csv'\n",
    "iris_data = pd.read_csv(iris_path, index_col=\"Id\")\n",
    "iris_data"
   ]
  },
  {
   "cell_type": "code",
   "execution_count": null,
   "id": "98ac0162",
   "metadata": {},
   "outputs": [],
   "source": [
    "sns.histplot(iris_data['Petal Length (cm)'])"
   ]
  },
  {
   "cell_type": "code",
   "execution_count": null,
   "id": "26ae07dd",
   "metadata": {},
   "outputs": [],
   "source": [
    "sns.kdeplot(data=iris_data['Petal Length (cm)'], shade=True)"
   ]
  },
  {
   "cell_type": "code",
   "execution_count": null,
   "id": "7a418c3b",
   "metadata": {},
   "outputs": [],
   "source": [
    "sns.jointplot(x=iris_data['Petal Length (cm)'], y=iris_data['Sepal Width (cm)'], kind='kde')"
   ]
  },
  {
   "cell_type": "code",
   "execution_count": null,
   "id": "1ebcd010",
   "metadata": {},
   "outputs": [],
   "source": [
    "sns.kdeplot(data=iris_data, x='Petal Length (cm)', hue=\"Species\", shade=True)\n",
    "plt.title(\"Distribution of Petal Lengths, by Species\")\n",
    "print(end=\"\")"
   ]
  },
  {
   "cell_type": "markdown",
   "id": "25c9453d",
   "metadata": {},
   "source": [
    "# CANCER (histogram, kde)"
   ]
  },
  {
   "cell_type": "code",
   "execution_count": null,
   "id": "e31ad914",
   "metadata": {},
   "outputs": [],
   "source": [
    "cancer_path = 'data/cancer.csv'\n",
    "cancer_data = pd.read_csv(cancer_path, index_col='Id')\n",
    "cancer_data"
   ]
  },
  {
   "cell_type": "code",
   "execution_count": null,
   "id": "62d74736",
   "metadata": {
    "scrolled": true
   },
   "outputs": [],
   "source": [
    "#from pandas_profiling import ProfileReport\n",
    "#profile = ProfileReport(cancer_data)\n",
    "#profile"
   ]
  },
  {
   "cell_type": "code",
   "execution_count": null,
   "id": "4ddc4eaf",
   "metadata": {},
   "outputs": [],
   "source": [
    "# largest value for Perimeter (mean)\n",
    "m = max(cancer_data['Perimeter (mean)'])\n",
    "i = list(cancer_data['Perimeter (mean)']).index(m)\n",
    "# i = cancer_data['Perimeter (mean)'].idxmax()\n",
    "print(\"Largest perimeter (mean): {}, Id: {}\".format(m,cancer_data.index[i]))"
   ]
  },
  {
   "cell_type": "code",
   "execution_count": null,
   "id": "55f2c990",
   "metadata": {},
   "outputs": [],
   "source": [
    "#sns.histplot(cancer_data['Area (mean)'], hue=cancer_data['Diagnosis'])\n",
    "cancer_m = cancer_data[cancer_data.Diagnosis == 'M']\n",
    "cancer_b = cancer_data[cancer_data.Diagnosis == \"B\"]\n",
    "\n",
    "sns.histplot(cancer_b['Area (mean)'], label='Benign', color='g')\n",
    "sns.histplot(cancer_m['Area (mean)'], label='Malicious', color='r')\n",
    "\n",
    "plt.legend()"
   ]
  },
  {
   "cell_type": "code",
   "execution_count": null,
   "id": "b1e47da1",
   "metadata": {},
   "outputs": [],
   "source": [
    "sns.histplot(data=cancer_data, x='Area (mean)', hue='Diagnosis')"
   ]
  },
  {
   "cell_type": "code",
   "execution_count": null,
   "id": "b0410d67",
   "metadata": {},
   "outputs": [],
   "source": [
    "sns.kdeplot(data=cancer_b['Radius (worst)'], shade=True, label='Benign', color='g')\n",
    "sns.kdeplot(data=cancer_m['Radius (worst)'], shade=True, label='Malicious', color='r')\n",
    "plt.legend()"
   ]
  },
  {
   "cell_type": "code",
   "execution_count": null,
   "id": "d5aa2e32",
   "metadata": {},
   "outputs": [],
   "source": [
    "sns.kdeplot(data=cancer_data, x='Area (mean)', hue='Diagnosis', shade=True)"
   ]
  },
  {
   "attachments": {
    "plots.png": {
     "image/png": "[encoded data removed]"
    }
   },
   "cell_type": "markdown",
   "id": "e03d402b",
   "metadata": {},
   "source": [
    "![plots.png](attachment:plots.png)"
   ]
  },
  {
   "cell_type": "markdown",
   "id": "ec30c03b",
   "metadata": {},
   "source": [
    "### Seaborn styles:\n",
    "- `darkgrid`\n",
    "- `whitegrid`\n",
    "- `dark`\n",
    "- `white`\n",
    "- `ticks` \n",
    "<br> <br> To change style: `sns.set_style('stylename')`"
   ]
  },
  {
   "cell_type": "markdown",
   "id": "251de124",
   "metadata": {},
   "source": [
    "# IRIS (pie chart)"
   ]
  },
  {
   "cell_type": "code",
   "execution_count": null,
   "id": "245142a0",
   "metadata": {},
   "outputs": [],
   "source": [
    "setosa = len(iris_data.loc[iris_data.Species == 'Iris-setosa'])\n",
    "versi = len(iris_data.loc[iris_data.Species == 'Iris-versicolor'])\n",
    "virgin = len(iris_data.loc[iris_data.Species == 'Iris-virginica'])\n",
    "\n",
    "y = np.array([setosa, versi, virgin])\n",
    "lbls = ['Iris-setosa', 'Iris-versicolor', 'Iris-virginica']\n",
    "\n",
    "plt.figure(figsize=(7,7))\n",
    "plt.pie(y, labels = lbls)\n",
    "plt.legend()\n",
    "plt.show()"
   ]
  },
  {
   "cell_type": "markdown",
   "id": "d785d439",
   "metadata": {},
   "source": [
    "# IRIS (catplot)"
   ]
  },
  {
   "cell_type": "code",
   "execution_count": null,
   "id": "19576b0f",
   "metadata": {},
   "outputs": [],
   "source": [
    "sns.catplot(x='Species', y='Petal Length (cm)', data=iris_data)"
   ]
  },
  {
   "cell_type": "code",
   "execution_count": null,
   "id": "2eb7a7bf",
   "metadata": {},
   "outputs": [],
   "source": [
    "iris_data['petal_length_bins'] = pd.cut(iris_data['Petal Length (cm)'], bins=3, labels=('short','medium','long'))\n",
    "sns.catplot(x='petal_length_bins', y='Petal Length (cm)', hue='Species', data=iris_data)\n",
    "# size - similar to hue but specify size of markers "
   ]
  },
  {
   "cell_type": "code",
   "execution_count": null,
   "id": "f5630508",
   "metadata": {},
   "outputs": [],
   "source": [
    "sns.catplot(x='Species', kind='count', data=iris_data)"
   ]
  },
  {
   "cell_type": "code",
   "execution_count": null,
   "id": "dc19b2cc",
   "metadata": {},
   "outputs": [],
   "source": [
    "sns.catplot(x='Species', y='Petal Width (cm)', data=iris_data, kind='box', sym='')\n",
    "# sym='' - not showing outliers"
   ]
  },
  {
   "cell_type": "markdown",
   "id": "3a84f3fd",
   "metadata": {},
   "source": [
    "# IRIS (relplot)"
   ]
  },
  {
   "cell_type": "code",
   "execution_count": null,
   "id": "c2f0b9e7",
   "metadata": {},
   "outputs": [],
   "source": [
    "sns.relplot(x='Petal Width (cm)', y='Petal Length (cm)', hue='Species', data=iris_data, kind='line', ci='sd')\n",
    "# ci - confidence intervals"
   ]
  }
 ],
 "metadata": {
  "kernelspec": {
   "display_name": "Python 3 (ipykernel)",
   "language": "python",
   "name": "python3"
  },
  "language_info": {
   "codemirror_mode": {
    "name": "ipython",
    "version": 3
   },
   "file_extension": ".py",
   "mimetype": "text/x-python",
   "name": "python",
   "nbconvert_exporter": "python",
   "pygments_lexer": "ipython3",
   "version": "3.10.5"
  }
 },
 "nbformat": 4,
 "nbformat_minor": 5
}
