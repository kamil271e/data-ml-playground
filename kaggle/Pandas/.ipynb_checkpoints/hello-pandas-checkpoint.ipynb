{
 "cells": [
  {
   "cell_type": "markdown",
   "id": "4bc60ec5",
   "metadata": {},
   "source": [
    "#### Dataset used in this notebook:\n",
    "[winemag-data-130k-v2.csv](https://www.kaggle.com/code/residentmario/data-types-and-missing-values/data?select=winemag-data-130k-v2.csv) <br>\n",
    "[GBvideos.csv](https://www.kaggle.com/code/residentmario/renaming-and-combining/data?select=GBvideos.csv) <br>\n",
    "[CAvideos.csv](kaggle.com/code/residentmario/renaming-and-combining/data?select=CAvideos.csv)\n",
    "\n",
    "\n",
    "# Creating, Reading and Writing\n"
   ]
  },
  {
   "cell_type": "code",
   "execution_count": null,
   "id": "0c7be50b",
   "metadata": {},
   "outputs": [],
   "source": [
    "import pandas as pd\n",
    "import numpy as np\n",
    "wine_reviews = pd.read_csv('data/winemag-data-130k-v2.csv', index_col=0)\n",
    "reviews = wine_reviews\n",
    "canadian_youtube = pd.read_csv(\"data/CAvideos.csv\")\n",
    "british_youtube = pd.read_csv(\"data/GBvideos.csv\")\n",
    "print(\"Setup complete\")"
   ]
  },
  {
   "cell_type": "code",
   "execution_count": null,
   "id": "8ef9ff75",
   "metadata": {},
   "outputs": [],
   "source": [
    "pd.DataFrame({\"Yes\": [50,21], \"No\": [12, 52]})"
   ]
  },
  {
   "cell_type": "code",
   "execution_count": null,
   "id": "bb97fe6f",
   "metadata": {},
   "outputs": [],
   "source": [
    "pd.DataFrame({'Bob': ['I liked it.', 'It was awful.'], 'Sue': ['Pretty good.', 'Bland.']})"
   ]
  },
  {
   "cell_type": "code",
   "execution_count": null,
   "id": "f430aea3",
   "metadata": {
    "scrolled": true
   },
   "outputs": [],
   "source": [
    "pd.DataFrame({'Bob': ['I liked it.', 'It was awful.'],\n",
    "              'Sue': ['Pretty good.', 'Bland.']},\n",
    "            index=['Product A', 'Product B'])"
   ]
  },
  {
   "cell_type": "code",
   "execution_count": null,
   "id": "80d531bf",
   "metadata": {},
   "outputs": [],
   "source": [
    "pd.Series([1,2,3], index=['A','B','C'], name='Product X')"
   ]
  },
  {
   "cell_type": "code",
   "execution_count": null,
   "id": "56b91322",
   "metadata": {},
   "outputs": [],
   "source": [
    "fruits = pd.DataFrame({'Apples':[30],'Bananas':[21]})\n",
    "fruits.to_csv('data/fruits.csv')\n",
    "fruits"
   ]
  },
  {
   "cell_type": "markdown",
   "id": "03959f8c",
   "metadata": {},
   "source": [
    "# Indexing, Selecting & Assigning"
   ]
  },
  {
   "cell_type": "code",
   "execution_count": null,
   "id": "3235db0a",
   "metadata": {},
   "outputs": [],
   "source": [
    "wine_reviews.country == wine_reviews['country']"
   ]
  },
  {
   "cell_type": "code",
   "execution_count": null,
   "id": "10ada3e3",
   "metadata": {},
   "outputs": [],
   "source": [
    "wine_reviews.country[0]"
   ]
  },
  {
   "cell_type": "markdown",
   "id": "eaa7c0e0",
   "metadata": {},
   "source": [
    "### `iloc`: index-based selection "
   ]
  },
  {
   "cell_type": "code",
   "execution_count": null,
   "id": "1d3cebee",
   "metadata": {},
   "outputs": [],
   "source": [
    "wine_reviews.iloc[0] # row"
   ]
  },
  {
   "cell_type": "code",
   "execution_count": null,
   "id": "d4026448",
   "metadata": {},
   "outputs": [],
   "source": [
    "wine_reviews.iloc[:,0] # : operator - means everything, column"
   ]
  },
  {
   "cell_type": "code",
   "execution_count": null,
   "id": "955825ad",
   "metadata": {},
   "outputs": [],
   "source": [
    "wine_reviews.iloc[:3,0]"
   ]
  },
  {
   "cell_type": "code",
   "execution_count": null,
   "id": "0c421db3",
   "metadata": {},
   "outputs": [],
   "source": [
    "wine_reviews.iloc[1:3,0]"
   ]
  },
  {
   "cell_type": "code",
   "execution_count": null,
   "id": "429490bc",
   "metadata": {},
   "outputs": [],
   "source": [
    "wine_reviews.iloc[[1,2,40],0]"
   ]
  },
  {
   "cell_type": "code",
   "execution_count": null,
   "id": "35fa8cea",
   "metadata": {},
   "outputs": [],
   "source": [
    "wine_reviews.iloc[-5:,0]"
   ]
  },
  {
   "cell_type": "markdown",
   "id": "fa25519b",
   "metadata": {},
   "source": [
    "### `loc`: label-based selection"
   ]
  },
  {
   "cell_type": "code",
   "execution_count": null,
   "id": "09942821",
   "metadata": {},
   "outputs": [],
   "source": [
    "wine_reviews.loc[0,'country']"
   ]
  },
  {
   "cell_type": "code",
   "execution_count": null,
   "id": "c9d901a1",
   "metadata": {},
   "outputs": [],
   "source": [
    "wine_reviews.loc[:,['taster_name', 'taster_twitter_handle', 'points']]"
   ]
  },
  {
   "cell_type": "code",
   "execution_count": null,
   "id": "1c930ee0",
   "metadata": {
    "scrolled": true
   },
   "outputs": [],
   "source": [
    "wine_reviews.set_index(\"title\")"
   ]
  },
  {
   "cell_type": "code",
   "execution_count": null,
   "id": "46a24a86",
   "metadata": {},
   "outputs": [],
   "source": [
    "wine_reviews.country == 'Italy'"
   ]
  },
  {
   "cell_type": "code",
   "execution_count": null,
   "id": "0965c716",
   "metadata": {
    "scrolled": true
   },
   "outputs": [],
   "source": [
    "wine_reviews.loc[(wine_reviews.country == 'Italy') & (wine_reviews.points >= 90)]"
   ]
  },
  {
   "cell_type": "code",
   "execution_count": null,
   "id": "7454707a",
   "metadata": {
    "scrolled": true
   },
   "outputs": [],
   "source": [
    "wine_reviews.loc[(wine_reviews.country == 'Italy') | (wine_reviews.points >= 90)]"
   ]
  },
  {
   "cell_type": "code",
   "execution_count": null,
   "id": "8712652f",
   "metadata": {
    "scrolled": true
   },
   "outputs": [],
   "source": [
    "wine_reviews.loc[wine_reviews.country.isin(['Italy', 'France'])]"
   ]
  },
  {
   "cell_type": "code",
   "execution_count": null,
   "id": "bf6edcc5",
   "metadata": {
    "scrolled": true
   },
   "outputs": [],
   "source": [
    "wine_reviews.loc[wine_reviews.price.notnull()]"
   ]
  },
  {
   "cell_type": "code",
   "execution_count": null,
   "id": "ec8bf0b1",
   "metadata": {},
   "outputs": [],
   "source": [
    "# wine_reviews['critic'] = 'everyone' # assigning data\n",
    "wine_reviews['index_bacwards'] = range(len(wine_reviews), 0, -1)\n",
    "wine_reviews['index_bacwards']"
   ]
  },
  {
   "cell_type": "code",
   "execution_count": null,
   "id": "723dc1f6",
   "metadata": {},
   "outputs": [],
   "source": [
    "desc = wine_reviews.description\n",
    "type(desc)"
   ]
  },
  {
   "cell_type": "code",
   "execution_count": null,
   "id": "8ec34834",
   "metadata": {},
   "outputs": [],
   "source": [
    "first5desc = wine_reviews.loc[:5,'description']\n",
    "first5desc"
   ]
  },
  {
   "cell_type": "code",
   "execution_count": null,
   "id": "6521827c",
   "metadata": {
    "scrolled": true
   },
   "outputs": [],
   "source": [
    "sample_reviews = wine_reviews.iloc[[1,2,3,5,8]]\n",
    "sample_reviews"
   ]
  },
  {
   "cell_type": "code",
   "execution_count": null,
   "id": "dd9e1969",
   "metadata": {},
   "outputs": [],
   "source": [
    "df = wine_reviews.loc[[0,1,10,100],['country', 'province', 'region_1', 'region_2']]\n",
    "df"
   ]
  },
  {
   "cell_type": "code",
   "execution_count": null,
   "id": "cca77f78",
   "metadata": {
    "scrolled": true
   },
   "outputs": [],
   "source": [
    "top_oceania_wines = wine_reviews.loc[(wine_reviews.country.isin(['Australia','New Zealand']))\n",
    "                                     & (wine_reviews.points >= 95)][['country','description']]\n",
    "top_oceania_wines"
   ]
  },
  {
   "cell_type": "markdown",
   "id": "234a36e1",
   "metadata": {},
   "source": [
    "# Summary Functions and Maps\n",
    "### `map()` & `apply()`"
   ]
  },
  {
   "cell_type": "code",
   "execution_count": null,
   "id": "92b42ffe",
   "metadata": {},
   "outputs": [],
   "source": [
    "reviews.describe()"
   ]
  },
  {
   "cell_type": "code",
   "execution_count": null,
   "id": "b16600c0",
   "metadata": {},
   "outputs": [],
   "source": [
    "reviews.taster_name.describe()"
   ]
  },
  {
   "cell_type": "code",
   "execution_count": null,
   "id": "1ca96510",
   "metadata": {},
   "outputs": [],
   "source": [
    "reviews.points.mean()"
   ]
  },
  {
   "cell_type": "code",
   "execution_count": null,
   "id": "31651510",
   "metadata": {},
   "outputs": [],
   "source": [
    "reviews.taster_name.unique()"
   ]
  },
  {
   "cell_type": "code",
   "execution_count": null,
   "id": "81435db6",
   "metadata": {
    "scrolled": true
   },
   "outputs": [],
   "source": [
    "reviews.taster_name.value_counts()"
   ]
  },
  {
   "cell_type": "code",
   "execution_count": null,
   "id": "006afab7",
   "metadata": {},
   "outputs": [],
   "source": [
    "most_expens = reviews.price.idxmax()\n",
    "reviews.iloc[most_expens]"
   ]
  },
  {
   "cell_type": "code",
   "execution_count": null,
   "id": "ff436cbd",
   "metadata": {},
   "outputs": [],
   "source": [
    "reviews_mean = reviews.points.mean()\n",
    "reviews.points.map(lambda p: p - reviews_mean)"
   ]
  },
  {
   "cell_type": "markdown",
   "id": "22d30419",
   "metadata": {},
   "source": [
    "### `apply`\n",
    "Is lets you run a function on all elements of pandas series or column/row of dataframe.\n",
    "\n",
    "Axis along which the function is applied:\n",
    "\n",
    "- 0 or ‘index’: apply function to each column (default).\n",
    "- 1 or ‘columns’: apply function to each row."
   ]
  },
  {
   "cell_type": "code",
   "execution_count": null,
   "id": "a1e5fb6b",
   "metadata": {
    "scrolled": true
   },
   "outputs": [],
   "source": [
    "def remean_points(row):\n",
    "    row.points = row.points - reviews_mean\n",
    "    return row\n",
    "\n",
    "reviews.apply(remean_points, axis='columns') "
   ]
  },
  {
   "cell_type": "code",
   "execution_count": null,
   "id": "cd805f72",
   "metadata": {
    "scrolled": true
   },
   "outputs": [],
   "source": [
    "def mode(x):\n",
    "    return x.mode()\n",
    "\n",
    "reviews.apply(mode, axis=0)\n",
    "#reviews.mode(dropna=False)"
   ]
  },
  {
   "cell_type": "code",
   "execution_count": null,
   "id": "baa5d928",
   "metadata": {},
   "outputs": [],
   "source": [
    "def high_low(x,h,l):\n",
    "    if x > h:\n",
    "        return \"high\"\n",
    "    if x > l:\n",
    "        return \"mid\"\n",
    "    return \"low\"\n",
    "\n",
    "reviews.price.apply(high_low, args=(50,30))"
   ]
  },
  {
   "cell_type": "code",
   "execution_count": null,
   "id": "7e83067b",
   "metadata": {},
   "outputs": [],
   "source": [
    "reviews.head(1)"
   ]
  },
  {
   "cell_type": "code",
   "execution_count": null,
   "id": "f64b1640",
   "metadata": {},
   "outputs": [],
   "source": [
    "reviews.points - reviews_mean"
   ]
  },
  {
   "cell_type": "code",
   "execution_count": null,
   "id": "5d70791a",
   "metadata": {},
   "outputs": [],
   "source": [
    "reviews.country + ' - ' + reviews.region_1"
   ]
  },
  {
   "cell_type": "code",
   "execution_count": null,
   "id": "36173eab",
   "metadata": {},
   "outputs": [],
   "source": [
    "reviews.points.median()"
   ]
  },
  {
   "cell_type": "code",
   "execution_count": null,
   "id": "84b831db",
   "metadata": {},
   "outputs": [],
   "source": [
    "reviews.country.unique()"
   ]
  },
  {
   "cell_type": "code",
   "execution_count": null,
   "id": "845cbc75",
   "metadata": {
    "scrolled": true
   },
   "outputs": [],
   "source": [
    "reviews.country.value_counts()"
   ]
  },
  {
   "cell_type": "code",
   "execution_count": null,
   "id": "94f2b153",
   "metadata": {},
   "outputs": [],
   "source": [
    "reviews.price - reviews.price.mean() / reviews.price.std()"
   ]
  },
  {
   "cell_type": "code",
   "execution_count": null,
   "id": "020d6a1e",
   "metadata": {},
   "outputs": [],
   "source": [
    "# best points/price ratio\n",
    "\n",
    "# only one wine\n",
    "bargain_idx = (reviews.points / reviews.price).idxmax()\n",
    "print(reviews.loc[bargain_idx, ['title', 'price', 'points']])\n",
    "\n",
    "# all wines\n",
    "#rv = reviews[~np.isnan(reviews.points / reviews.price)]\n",
    "rv = reviews[(reviews.points.notnull()) & (reviews.price.notnull())]\n",
    "mx = max(rv.points / rv.price)\n",
    "rv.loc[rv.points / rv.price == mx][['title', 'price', 'points']]"
   ]
  },
  {
   "cell_type": "code",
   "execution_count": null,
   "id": "910d69b4",
   "metadata": {},
   "outputs": [],
   "source": [
    "trop = reviews.description.map(lambda desc: 'tropical' in desc).sum()\n",
    "fruit = reviews.description.map(lambda desc: 'fruity' in desc).sum()\n",
    "counts = pd.Series([trop, fruit], index=['tropical', 'fruity'])\n",
    "counts"
   ]
  },
  {
   "cell_type": "code",
   "execution_count": null,
   "id": "950f8fc5",
   "metadata": {},
   "outputs": [],
   "source": [
    "def rating(x):\n",
    "    if x >= 95:\n",
    "        return 3\n",
    "    elif x >= 85:\n",
    "        return 2\n",
    "    else:\n",
    "        return 1\n",
    "\n",
    "reviews.points.apply(rating)"
   ]
  },
  {
   "cell_type": "code",
   "execution_count": null,
   "id": "2d280b15",
   "metadata": {},
   "outputs": [],
   "source": [
    "def stars(x):\n",
    "    if x.country == 'Canada' or x.points >= 95:\n",
    "        return 3\n",
    "    elif x.points >= 85:\n",
    "        return 2\n",
    "    else:\n",
    "        return 1\n",
    "    \n",
    "reviews.apply(stars, axis='columns') # for every row"
   ]
  },
  {
   "cell_type": "markdown",
   "id": "0aeeb27c",
   "metadata": {},
   "source": [
    "# Grouping and Sorting\n",
    "## `groupby`\n"
   ]
  },
  {
   "cell_type": "code",
   "execution_count": null,
   "id": "ae70cbe1",
   "metadata": {},
   "outputs": [],
   "source": [
    "data = reviews.groupby('points').points.count()\n",
    "# reviews.points.value_counts() # same as groupby, but not sorted\n",
    "import seaborn as sns\n",
    "from matplotlib import pyplot as plt\n",
    "sns.barplot(x=data.index, y=data)\n",
    "#sns.kdeplot(data=data, shade=True)\n",
    "#sns.histplot(x=data.index, y=data, kde=True, bins=21)\n",
    "plt.ylabel(\"wines\")\n",
    "plt.show()\n"
   ]
  },
  {
   "cell_type": "code",
   "execution_count": null,
   "id": "a551d11c",
   "metadata": {
    "scrolled": true
   },
   "outputs": [],
   "source": [
    "reviews.groupby('points').price.min()"
   ]
  },
  {
   "cell_type": "code",
   "execution_count": null,
   "id": "1ab3d62e",
   "metadata": {},
   "outputs": [],
   "source": [
    "reviews.groupby('winery').apply(lambda df: df.title.iloc[0]) #?"
   ]
  },
  {
   "cell_type": "code",
   "execution_count": null,
   "id": "81bb11b9",
   "metadata": {
    "scrolled": true
   },
   "outputs": [],
   "source": [
    "reviews['stars'] = reviews.apply(stars, axis='columns')\n",
    "reviews.groupby('stars')[['price','points']].min()"
   ]
  },
  {
   "cell_type": "code",
   "execution_count": null,
   "id": "3c408886",
   "metadata": {},
   "outputs": [],
   "source": [
    "reviews.groupby(['stars','country'], as_index=True)[['price','points']].min()\n",
    "# changing as_index to false it will return regular columns"
   ]
  },
  {
   "cell_type": "code",
   "execution_count": null,
   "id": "ef93699f",
   "metadata": {
    "scrolled": true
   },
   "outputs": [],
   "source": [
    "reviews.groupby(['country','province']).apply(lambda df: df.loc[df.points.idxmax()])"
   ]
  },
  {
   "cell_type": "code",
   "execution_count": null,
   "id": "9e2ac957",
   "metadata": {
    "scrolled": true
   },
   "outputs": [],
   "source": [
    "reviews.groupby(['country']).price.agg([len, min, max])"
   ]
  },
  {
   "cell_type": "code",
   "execution_count": null,
   "id": "8d4794eb",
   "metadata": {},
   "outputs": [],
   "source": [
    "countries_reviewed = reviews.groupby(['country', 'province']).description.agg([len])\n",
    "print(type(countries_reviewed.index)) # MultiIndex\n",
    "countries_reviewed"
   ]
  },
  {
   "cell_type": "code",
   "execution_count": null,
   "id": "b326b977",
   "metadata": {},
   "outputs": [],
   "source": [
    "# little trick with cut\n",
    "reviews['price_bins'] = pd.cut(reviews['price'], bins=3, labels=('cheap', 'regular', 'expensive'))\n",
    "reviews.groupby(['price_bins'])['points'].mean()"
   ]
  },
  {
   "cell_type": "markdown",
   "id": "9407f83e",
   "metadata": {},
   "source": [
    "## `sort`"
   ]
  },
  {
   "cell_type": "code",
   "execution_count": null,
   "id": "96c550b2",
   "metadata": {},
   "outputs": [],
   "source": [
    "countries_reviewed = countries_reviewed.reset_index()\n",
    "countries_reviewed.sort_values(by='len', ascending=False)"
   ]
  },
  {
   "cell_type": "code",
   "execution_count": null,
   "id": "fef758e3",
   "metadata": {},
   "outputs": [],
   "source": [
    "# countries_reviewed.sort_index()\n",
    "countries_reviewed.sort_values(by=['country', 'len'])"
   ]
  },
  {
   "cell_type": "code",
   "execution_count": null,
   "id": "1769a3fe",
   "metadata": {
    "scrolled": true
   },
   "outputs": [],
   "source": [
    "#reviews.groupby('taster_twitter_handle').taster_twitter_handle.count()\n",
    "reviews.groupby('taster_twitter_handle').size()"
   ]
  },
  {
   "cell_type": "code",
   "execution_count": null,
   "id": "958d9e30",
   "metadata": {},
   "outputs": [],
   "source": [
    "reviews.groupby('price').points.max()"
   ]
  },
  {
   "cell_type": "code",
   "execution_count": null,
   "id": "2a1d100e",
   "metadata": {},
   "outputs": [],
   "source": [
    "reviews.groupby('variety').price.agg([min, max])"
   ]
  },
  {
   "cell_type": "code",
   "execution_count": null,
   "id": "92648aa1",
   "metadata": {},
   "outputs": [],
   "source": [
    "reviews.groupby('variety').price.agg([np.mean, np.std])"
   ]
  },
  {
   "cell_type": "code",
   "execution_count": null,
   "id": "daf9e0c4",
   "metadata": {},
   "outputs": [],
   "source": [
    "reviews.groupby('variety').price.agg([min, max]).sort_values(by=['min','max'], ascending=False)"
   ]
  },
  {
   "cell_type": "code",
   "execution_count": null,
   "id": "a8430b3a",
   "metadata": {},
   "outputs": [],
   "source": [
    "reviews.groupby('taster_name').points.mean()"
   ]
  },
  {
   "cell_type": "code",
   "execution_count": null,
   "id": "b72fb772",
   "metadata": {},
   "outputs": [],
   "source": [
    "reviews.groupby(['country', 'variety']).size().sort_values(ascending=False)"
   ]
  },
  {
   "cell_type": "markdown",
   "id": "0b36d63a",
   "metadata": {},
   "source": [
    "# Data Types and Missing Values\n"
   ]
  },
  {
   "cell_type": "code",
   "execution_count": null,
   "id": "192bd328",
   "metadata": {},
   "outputs": [],
   "source": [
    "reviews.price.dtype"
   ]
  },
  {
   "cell_type": "code",
   "execution_count": null,
   "id": "9b7c7cea",
   "metadata": {},
   "outputs": [],
   "source": [
    "reviews.dtypes"
   ]
  },
  {
   "cell_type": "code",
   "execution_count": null,
   "id": "3e8506ab",
   "metadata": {},
   "outputs": [],
   "source": [
    "reviews.points.astype('float64')"
   ]
  },
  {
   "cell_type": "code",
   "execution_count": null,
   "id": "10c6ede8",
   "metadata": {
    "scrolled": true
   },
   "outputs": [],
   "source": [
    "reviews[pd.isnull(reviews.country)]"
   ]
  },
  {
   "cell_type": "code",
   "execution_count": null,
   "id": "0ac24820",
   "metadata": {},
   "outputs": [],
   "source": [
    "reviews.region_2.fillna('Unknown')"
   ]
  },
  {
   "cell_type": "code",
   "execution_count": null,
   "id": "6d87c61b",
   "metadata": {},
   "outputs": [],
   "source": [
    "reviews.taster_twitter_handle.replace(\"@kerinokeefe\", \"@kerino\")"
   ]
  },
  {
   "cell_type": "code",
   "execution_count": null,
   "id": "2a88deb1",
   "metadata": {
    "scrolled": true
   },
   "outputs": [],
   "source": [
    "reviews.points.astype('str')"
   ]
  },
  {
   "cell_type": "code",
   "execution_count": null,
   "id": "51f8a855",
   "metadata": {},
   "outputs": [],
   "source": [
    "pd.isnull(reviews.price).sum()"
   ]
  },
  {
   "cell_type": "code",
   "execution_count": null,
   "id": "a9d17000",
   "metadata": {},
   "outputs": [],
   "source": [
    "reviews.region_1 = reviews.region_1.fillna('Unknown')\n",
    "reviews.groupby('region_1').size().sort_values(ascending=False)\n",
    "# one liner:\n",
    "# reviews.region_1.fillna('Unknown').value_counts().sort_values(ascending=False)"
   ]
  },
  {
   "cell_type": "markdown",
   "id": "5a566949",
   "metadata": {},
   "source": [
    "# Renaming and Combining\n"
   ]
  },
  {
   "cell_type": "code",
   "execution_count": null,
   "id": "87b114b1",
   "metadata": {
    "scrolled": true
   },
   "outputs": [],
   "source": [
    "reviews.rename(columns={'points': 'score'})"
   ]
  },
  {
   "cell_type": "code",
   "execution_count": null,
   "id": "e87b4159",
   "metadata": {
    "scrolled": true
   },
   "outputs": [],
   "source": [
    "reviews.rename(index={0: 'firstEntry', 1: 'secondEntry'})"
   ]
  },
  {
   "cell_type": "code",
   "execution_count": null,
   "id": "61b96571",
   "metadata": {
    "scrolled": true
   },
   "outputs": [],
   "source": [
    "reviews.rename_axis('wines', axis='rows').rename_axis('fields', axis='columns')"
   ]
  },
  {
   "cell_type": "code",
   "execution_count": null,
   "id": "5611f798",
   "metadata": {
    "scrolled": true
   },
   "outputs": [],
   "source": [
    "pd.concat([canadian_youtube, british_youtube])"
   ]
  },
  {
   "cell_type": "code",
   "execution_count": null,
   "id": "f1d31cdb",
   "metadata": {
    "scrolled": true
   },
   "outputs": [],
   "source": [
    "left = canadian_youtube.set_index(['title', 'trending_date'])\n",
    "right = british_youtube.set_index(['title', 'trending_date'])\n",
    "left.join(right, lsuffix='_CAN', rsuffix='_UK')"
   ]
  },
  {
   "cell_type": "code",
   "execution_count": null,
   "id": "ac691cf6",
   "metadata": {
    "scrolled": true
   },
   "outputs": [],
   "source": [
    "reviews.rename(columns = {'region_1':'region','region_2':'locale'})"
   ]
  },
  {
   "cell_type": "code",
   "execution_count": null,
   "id": "7af39711",
   "metadata": {
    "scrolled": true
   },
   "outputs": [],
   "source": [
    "reviews.rename_axis('wines', axis='rows')"
   ]
  },
  {
   "cell_type": "markdown",
   "id": "ced0abce",
   "metadata": {},
   "source": [
    "### Pivot Table"
   ]
  },
  {
   "cell_type": "code",
   "execution_count": null,
   "id": "b1dac810",
   "metadata": {
    "scrolled": true
   },
   "outputs": [],
   "source": [
    "pt = pd.pivot_table(data=reviews,\n",
    "                   index=['country'],\n",
    "                   columns=['stars'],\n",
    "                   values='points',\n",
    "                   aggfunc=['mean','count'])\n",
    "pt"
   ]
  }
 ],
 "metadata": {
  "kernelspec": {
   "display_name": "Python 3 (ipykernel)",
   "language": "python",
   "name": "python3"
  },
  "language_info": {
   "codemirror_mode": {
    "name": "ipython",
    "version": 3
   },
   "file_extension": ".py",
   "mimetype": "text/x-python",
   "name": "python",
   "nbconvert_exporter": "python",
   "pygments_lexer": "ipython3",
   "version": "3.10.5"
  }
 },
 "nbformat": 4,
 "nbformat_minor": 5
}
